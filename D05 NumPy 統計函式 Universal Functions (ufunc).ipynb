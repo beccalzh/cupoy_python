{
 "cells": [
  {
   "cell_type": "code",
   "execution_count": 3,
   "metadata": {},
   "outputs": [
    {
     "data": {
      "text/plain": [
       "'1.18.1'"
      ]
     },
     "execution_count": 3,
     "metadata": {},
     "output_type": "execute_result"
    }
   ],
   "source": [
    "import numpy as np\n",
    "np.__version__"
   ]
  },
  {
   "cell_type": "code",
   "execution_count": 58,
   "metadata": {},
   "outputs": [],
   "source": [
    "english_score = np.array([55,89,76,65,48,70])\n",
    "math_score = np.array([60,85,60,68,np.nan,60])\n",
    "chinese_score = np.array([65,90,82,72,66,77])"
   ]
  },
  {
   "cell_type": "code",
   "execution_count": 59,
   "metadata": {},
   "outputs": [
    {
     "name": "stdout",
     "output_type": "stream",
     "text": [
      "English:\n",
      "avg. = 67.17 | max = 89.00 | min = 48.00 | std. = 13.43\n",
      "Math:\n",
      "avg. = 66.60 | max = 85.00 | min = 60.00 | std. = 9.71\n",
      "Chinese:\n",
      "avg. = 75.33 | max = 90.00 | min = 65.00 | std. = 8.83\n"
     ]
    }
   ],
   "source": [
    "#1. 請計算各科成績平均、最大值、最小值、標準差，其中數學缺一筆資料可忽略?\n",
    "\n",
    "name=['English','Math','Chinese']\n",
    "x=0\n",
    "for i in [english_score,math_score,chinese_score]:\n",
    "    print(name[x]+':')\n",
    "    print('avg. = %.2f | max = %.2f | min = %.2f | std. = %.2f'%(np.nanmean(i),np.nanmax(i),np.nanmin(i),np.nanstd(i)))\n",
    "    x+=1"
   ]
  },
  {
   "cell_type": "code",
   "execution_count": 60,
   "metadata": {},
   "outputs": [
    {
     "name": "stdout",
     "output_type": "stream",
     "text": [
      "avg. = 64.67 | max = 85.00 | min = 55.00 | std. = 9.86\n"
     ]
    }
   ],
   "source": [
    "#2. 第五位同學補考數學後成績為55，請計算補考後數學成績平均、最大值、最小值、標準差?\n",
    "math_score=np.array([60,85,60,68,55,60])\n",
    "i=math_score\n",
    "print('avg. = %.2f | max = %.2f | min = %.2f | std. = %.2f'%(np.nanmean(i),np.nanmax(i),np.nanmin(i),np.nanstd(i)))"
   ]
  },
  {
   "cell_type": "code",
   "execution_count": 72,
   "metadata": {},
   "outputs": [
    {
     "name": "stdout",
     "output_type": "stream",
     "text": [
      "英文\n"
     ]
    }
   ],
   "source": [
    "#3. 用補考後資料找出與國文成績相關係數最高的學科?\n",
    "ch_en = np.corrcoef(chinese_score,english_score)\n",
    "ch_math = np.corrcoef(chinese_score,math_score)\n",
    "if np.mean(ch_en)-np.mean(ch_math)>0:\n",
    "    print('英文')\n",
    "else:\n",
    "    print('數學')"
   ]
  },
  {
   "cell_type": "code",
   "execution_count": null,
   "metadata": {},
   "outputs": [],
   "source": []
  }
 ],
 "metadata": {
  "kernelspec": {
   "display_name": "Python 3",
   "language": "python",
   "name": "python3"
  },
  "language_info": {
   "codemirror_mode": {
    "name": "ipython",
    "version": 3
   },
   "file_extension": ".py",
   "mimetype": "text/x-python",
   "name": "python",
   "nbconvert_exporter": "python",
   "pygments_lexer": "ipython3",
   "version": "3.7.6"
  }
 },
 "nbformat": 4,
 "nbformat_minor": 4
}
