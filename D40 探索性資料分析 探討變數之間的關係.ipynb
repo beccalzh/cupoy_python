{
 "cells": [
  {
   "cell_type": "code",
   "execution_count": 14,
   "metadata": {},
   "outputs": [],
   "source": [
    "#把需要的 library import 進來\n",
    "import pandas as pd\n",
    "import numpy as np\n",
    "import pingouin as pg\n",
    "import researchpy\n",
    "from scipy import stats, optimize, interpolate"
   ]
  },
  {
   "cell_type": "code",
   "execution_count": 8,
   "metadata": {},
   "outputs": [
    {
     "name": "stdout",
     "output_type": "stream",
     "text": [
      "<class 'pandas.core.frame.DataFrame'>\n",
      "RangeIndex: 891 entries, 0 to 890\n",
      "Data columns (total 12 columns):\n",
      " #   Column       Non-Null Count  Dtype  \n",
      "---  ------       --------------  -----  \n",
      " 0   PassengerId  891 non-null    int64  \n",
      " 1   Survived     891 non-null    int64  \n",
      " 2   Pclass       891 non-null    int64  \n",
      " 3   Name         891 non-null    object \n",
      " 4   Sex          891 non-null    object \n",
      " 5   Age          714 non-null    float64\n",
      " 6   SibSp        891 non-null    int64  \n",
      " 7   Parch        891 non-null    int64  \n",
      " 8   Ticket       891 non-null    object \n",
      " 9   Fare         891 non-null    float64\n",
      " 10  Cabin        204 non-null    object \n",
      " 11  Embarked     889 non-null    object \n",
      "dtypes: float64(2), int64(5), object(5)\n",
      "memory usage: 83.7+ KB\n",
      "None\n"
     ]
    }
   ],
   "source": [
    "train = pd.read_csv(\"Titanic_train.csv\")\n",
    "print(train.info())"
   ]
  },
  {
   "cell_type": "code",
   "execution_count": 9,
   "metadata": {},
   "outputs": [],
   "source": [
    "x=[]\n",
    "for i in range(len(train)):\n",
    "    if train['Survived'][i] == 0:\n",
    "        x.append('Die')\n",
    "    else:\n",
    "        x.append('Survive')\n",
    "train['Survived'] = x"
   ]
  },
  {
   "cell_type": "code",
   "execution_count": 10,
   "metadata": {},
   "outputs": [],
   "source": [
    "def relation(x):\n",
    "    if x == 1:\n",
    "        opt = '完全線性相關'\n",
    "    elif 0.99 >= x >= 0.7:\n",
    "        opt = '高度線性相關'\n",
    "    elif 0.69 >= x >= 0.4:\n",
    "        opt = '中度線性相關'\n",
    "    elif 0.39 >= x >= 0.1:\n",
    "        opt = '低度線性相關'\n",
    "    elif x<0.1:\n",
    "        opt = '無線性相關'\n",
    "    return opt"
   ]
  },
  {
   "cell_type": "code",
   "execution_count": 20,
   "metadata": {},
   "outputs": [
    {
     "name": "stdout",
     "output_type": "stream",
     "text": [
      "Age & Survived 呈無線性相關\n",
      "Sex & Survived 呈中度線性相關\n",
      "Age & Fare 呈低度線性相關\n"
     ]
    }
   ],
   "source": [
    "# Q1: 透過數值法計算 Age 和 Survived 是否有相關性?\n",
    "# A1: Age為連續資料｜Survived為離散資料\n",
    "aov = pg.anova(dv='Age', between='Survived',\\\n",
    "               data=train, detailed=True)\n",
    "etaSq = aov.SS[0]/(aov.SS[0]+aov.SS[1])\n",
    "print('Age & Survived 呈%s'%relation(etaSq))\n",
    "\n",
    "# Q2: 透過數值法計算 Sex 和 Survived 是否有相關性?\n",
    "# A2: Sex為離散資料｜Survived為離散資料\n",
    "crosstab, res = researchpy.crosstab(train['Sex'],\\\n",
    "                                    train['Survived'],\\\n",
    "                                    test='chi-square')\n",
    "x = res.loc[2,'results']\n",
    "print('Sex & Survived 呈%s'%relation(x))\n",
    "\n",
    "# Q3: 透過數值法計算 Age 和 Fare 是否有相關性?\n",
    "# A3: Fare為連續資料｜Fare為連續資料\n",
    "corr,_=stats.pearsonr(train['Age'].fillna(0), train['Fare'])\n",
    "print('Age & Fare 呈%s'%relation(corr))"
   ]
  },
  {
   "cell_type": "code",
   "execution_count": null,
   "metadata": {},
   "outputs": [],
   "source": []
  }
 ],
 "metadata": {
  "kernelspec": {
   "display_name": "Python 3",
   "language": "python",
   "name": "python3"
  },
  "language_info": {
   "codemirror_mode": {
    "name": "ipython",
    "version": 3
   },
   "file_extension": ".py",
   "mimetype": "text/x-python",
   "name": "python",
   "nbconvert_exporter": "python",
   "pygments_lexer": "ipython3",
   "version": "3.7.6"
  }
 },
 "nbformat": 4,
 "nbformat_minor": 4
}
