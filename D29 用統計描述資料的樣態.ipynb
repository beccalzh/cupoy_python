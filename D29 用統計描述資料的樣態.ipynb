{
 "cells": [
  {
   "cell_type": "code",
   "execution_count": 154,
   "metadata": {},
   "outputs": [],
   "source": [
    "import matplotlib.pyplot as plt\n",
    "import numpy as np\n",
    "import pandas as pd\n",
    "from scipy import stats\n",
    "import math\n",
    "import statistics\n",
    "import seaborn as sns"
   ]
  },
  {
   "cell_type": "code",
   "execution_count": 166,
   "metadata": {},
   "outputs": [
    {
     "name": "stdout",
     "output_type": "stream",
     "text": [
      "count     20.000000\n",
      "mean     165.950000\n",
      "std        9.213691\n",
      "min      144.000000\n",
      "25%      162.250000\n",
      "50%      165.000000\n",
      "75%      171.500000\n",
      "max      183.000000\n",
      "Name: B, dtype: float64\n",
      "count     20.000000\n",
      "mean     168.300000\n",
      "std        9.766215\n",
      "min      151.000000\n",
      "25%      161.500000\n",
      "50%      169.000000\n",
      "75%      173.500000\n",
      "max      185.000000\n",
      "Name: G, dtype: float64\n"
     ]
    },
    {
     "data": {
      "text/plain": [
       "<matplotlib.axes._subplots.AxesSubplot at 0x7ff461f28e90>"
      ]
     },
     "execution_count": 166,
     "metadata": {},
     "output_type": "execute_result"
    },
    {
     "data": {
      "image/png": "[encoded data removed]",
      "text/plain": [
       "<Figure size 432x288 with 1 Axes>"
      ]
     },
     "metadata": {
      "needs_background": "light"
     },
     "output_type": "display_data"
    }
   ],
   "source": [
    "#Q1:試著用今天所教的內容，如何描述這兩組資料的樣態?\n",
    "boys=[164,175,183,173,\\\n",
    "      176,159,165,165,\\\n",
    "      169,151,156,163,\\\n",
    "      169,144,170,177,\\\n",
    "      165,160,164,171]\n",
    "girls=[169,170,162,154,\\\n",
    "      183,173,169,167,\\\n",
    "      170,185,162,175,\\\n",
    "      168,151,181,170,\\\n",
    "      182,156,159,160]\n",
    "d=np.transpose([boys,girls])\n",
    "data=pd.DataFrame(d,columns=['B','G'])\n",
    "\n",
    "print(data['B'].describe())\n",
    "print(data['G'].describe())\n",
    "data.boxplot(column=['B','G'])\n",
    "\n",
    "#根據統計量可知，女生平均身高較女生平均身高較高，但變異數較大。藉由相形圖可知，以常態分配而言，屬右偏的常態分配\n",
    "#男生雖平均身高較低，但其變異數叫女生小0.5，資料較集中。以常態分配來看，則屬左偏的資料型態。此外男生最矮身高144cm為其資料的離群值。"
   ]
  },
  {
   "cell_type": "code",
   "execution_count": 174,
   "metadata": {},
   "outputs": [
    {
     "name": "stdout",
     "output_type": "stream",
     "text": [
      "165.95\n",
      "mean of B: 165 cm\n",
      "mean of G: 168 cm\n"
     ]
    }
   ],
   "source": [
    "#Q2: 請問男生和女生在平均身高上誰比較高? \n",
    "for i in data.keys():\n",
    "    print('mean of %s: %d cm' %(i,data[i].mean()))\n",
    "    \n",
    "#女生平均身高較高"
   ]
  },
  {
   "cell_type": "code",
   "execution_count": 175,
   "metadata": {},
   "outputs": [],
   "source": [
    "#Q3:請問第二題的答案和日常生活中觀察的一致嗎? 如果不一致，你覺得原因可能為何? \n",
    "\n",
    "#不一致的原因：抽樣誤差（女生樣本來源為籃球隊，而男生樣本來源為一般男性），樣本數量小（相較於人口數2300萬，40位樣本，僅佔0.00000174）"
   ]
  },
  {
   "cell_type": "code",
   "execution_count": null,
   "metadata": {},
   "outputs": [],
   "source": []
  }
 ],
 "metadata": {
  "kernelspec": {
   "display_name": "Python 3",
   "language": "python",
   "name": "python3"
  },
  "language_info": {
   "codemirror_mode": {
    "name": "ipython",
    "version": 3
   },
   "file_extension": ".py",
   "mimetype": "text/x-python",
   "name": "python",
   "nbconvert_exporter": "python",
   "pygments_lexer": "ipython3",
   "version": "3.7.6"
  }
 },
 "nbformat": 4,
 "nbformat_minor": 4
}
