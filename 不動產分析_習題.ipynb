{
 "cells": [
  {
   "cell_type": "markdown",
   "metadata": {
    "id": "ecrVHDiuAto7"
   },
   "source": [
    "哈摟，各位資料科學家大家好，我是來自於台北市\"頭期款不足\"的阿宏，我想買房子很久了，但是不知道要買哪個地方，想先從內政部不動產交易時價登入資料中先了解行情，我現在手邊蒐集了台北市Taipei(A_lvr_land_A.csv)、新北市New_Taipei(F_lvr_land_A.csv)、台中市Taichung(B_lvr_land_A.csv)、高雄市Kaohsiung(E_lvr_land_A.csv)共四份資料，請各位資料科學家幫幫忙分析了。"
   ]
  },
  {
   "cell_type": "markdown",
   "metadata": {
    "id": "9_PILIgwAtpW"
   },
   "source": [
    "# 1.不動產資料檔案讀取並串接"
   ]
  },
  {
   "cell_type": "markdown",
   "metadata": {
    "id": "54hz4CgWAtpX"
   },
   "source": [
    "資料分散在4個資料，先合併成一個資料方便後續分析，但是我發現有英文欄位跟中文欄位，留下中文刪除英文，並加入新的欄位用以分辨台北市Taipei、新北市New_Taipei、台中市Taichung、高雄市Kaohsiung"
   ]
  },
  {
   "cell_type": "markdown",
   "metadata": {
    "id": "UAgGy_owAtpY"
   },
   "source": [
    "1. 利用Pandas中的pd.read_csv()分別讀取A_lvr_land_A.csv、B_lvr_land_A.csv、E_lvr_land_A.csv、F_lvr_land_A.csv\n",
    "2. 刪除csv中第二列英文翻譯，The villages and towns urban district,transaction sign,land sector position building sector house number plate,land shifting total area square meter,....\n",
    "3. 生成city欄位其中以地區分類台北市Taipei(A_lvr_land_A.csv)、新北市New_Taipei(F_lvr_land_A.csv)、台中市Taichung(B_lvr_land_A.csv)、高雄市Kaohsiung(E_lvr_land_A.csv)\n",
    "4. 將以上四份資料運用pd.concat()串接"
   ]
  },
  {
   "cell_type": "code",
   "execution_count": 1,
   "metadata": {
    "id": "AtdUcGYAAtpY"
   },
   "outputs": [],
   "source": [
    "import os\n",
    "import pandas as pd "
   ]
  },
  {
   "cell_type": "code",
   "execution_count": 2,
   "metadata": {
    "id": "qaBwVWbkAtpZ"
   },
   "outputs": [],
   "source": [
    "#1.利用Pandas中的pd.read_csv()分別讀取A_lvr_land_A.csv、B_lvr_land_A.csv、E_lvr_land_A.csv、F_lvr_land_A.csv\n",
    "#2.刪除csv中第二列英文翻譯，The villages and towns urban district,transaction sign,land sector position building sector house number plate,land shifting total area square meter,....\n",
    "\n",
    "path = '/Users/becca/Desktop/'\n",
    "desktop = os.listdir(path)\n",
    "Taipei = pd.read_csv(path+'A_lvr_land_A.csv', skiprows=[1,2])\n",
    "New_Taipei = pd.read_csv(path+'F_lvr_land_A.csv', skiprows=[1,2])\n",
    "Taichung = pd.read_csv(path+'B_lvr_land_A.csv', skiprows=[1,2])\n",
    "Kaohsiung = pd.read_csv(path+'E_lvr_land_A.csv', skiprows=[1,2])"
   ]
  },
  {
   "cell_type": "code",
   "execution_count": 3,
   "metadata": {
    "id": "p7cqARS8Atpa"
   },
   "outputs": [],
   "source": [
    "#3. 生成city欄位其中以地區分類台北市Taipei(A_lvr_land_A.csv)、新北市New_Taipei(F_lvr_land_A.csv)、台中市Taichung(B_lvr_land_A.csv)、高雄市Kaohsiung(E_lvr_land_A.csv)\n",
    "\n",
    "# Taipei['city'] = 'Taipei'\n",
    "for i, j in zip([Taipei, New_Taipei, Taichung, Kaohsiung], ['Taipei','New_Taipei','Taichung','Kaohsung']):\n",
    "    i['city'] = j"
   ]
  },
  {
   "cell_type": "code",
   "execution_count": 4,
   "metadata": {
    "id": "5Sajh33BAtpb"
   },
   "outputs": [
    {
     "data": {
      "text/plain": [
       "0          Taipei\n",
       "1          Taipei\n",
       "2          Taipei\n",
       "3          Taipei\n",
       "4          Taipei\n",
       "           ...   \n",
       "14127    Kaohsung\n",
       "14128    Kaohsung\n",
       "14129    Kaohsung\n",
       "14130    Kaohsung\n",
       "14131    Kaohsung\n",
       "Name: city, Length: 59472, dtype: object"
      ]
     },
     "execution_count": 4,
     "metadata": {},
     "output_type": "execute_result"
    }
   ],
   "source": [
    "#4. 將以上四份資料運用pd.concat()串接\n",
    "df = pd.concat([Taipei, New_Taipei, Taichung, Kaohsiung])\n",
    "df.city"
   ]
  },
  {
   "cell_type": "code",
   "execution_count": 5,
   "metadata": {},
   "outputs": [
    {
     "data": {
      "text/plain": [
       "33"
      ]
     },
     "execution_count": 5,
     "metadata": {},
     "output_type": "execute_result"
    }
   ],
   "source": [
    "len(df.columns)"
   ]
  },
  {
   "cell_type": "markdown",
   "metadata": {
    "id": "vf6GM8Z_Atpb"
   },
   "source": [
    "# 2. 資料清理與切片"
   ]
  },
  {
   "cell_type": "markdown",
   "metadata": {
    "id": "QMPrmISNAtpb"
   },
   "source": [
    "因為我是想買來住的房子，所以幫忙刪除住宿用途以外的資料，並且限制\n",
    "1. 交易年月日，限制在109年\n",
    "2. 建物現況格局-房，1~5間 \n",
    "3. 建物現況格局-廳，1~2廳"
   ]
  },
  {
   "cell_type": "markdown",
   "metadata": {
    "id": "1C-ImCfTAtpc"
   },
   "source": [
    "以下columns_mapping、analysis_columns、columns_type提供給資料科學家配合使用\n",
    "1. 利用.rename()並配合以下columns_mapping，將原中文欄位名稱改為英文方便之後分析\n",
    "2. 取出主要用途(main_use)為'住家用'以及都市土地使用分區(use_zoning)為'住'的資料並針對以下欄位analysis_columns做分析並去除na值\n",
    "   (提示:先取完之後再.dropna())\n",
    "3. 觀察欄位資料型態，並利用.astype()搭配以下提供的columns_type做欄位型態轉換\n",
    "4. 做資料切片將<br>\n",
    "    新增欄位交易年月日(tx_dt_year)，從交易年月日(tx_dt)萃取出年份<br>\n",
    "    1.交易年月日(tx_dt_year)，限制在109年<br>\n",
    "    2.建物現況格局-房(room_number)，限制在1到5間<br>\n",
    "    3.建物現況格局-廳(hall_number)，限制在1到2廳<br>\n",
    "    4.最後運用.reset_index()重新定義索引"
   ]
  },
  {
   "cell_type": "code",
   "execution_count": 6,
   "metadata": {
    "id": "rBSElFmKAtpc"
   },
   "outputs": [],
   "source": [
    "columns_mapping = {'鄉鎮市區':'towns',\n",
    "'交易標的':'transaction_sign',\n",
    "'土地區段位置建物區段門牌':'house_number',\n",
    "'土地移轉總面積平方公尺':'land_area_square_meter', \n",
    "'都市土地使用分區':'use_zoning', \n",
    "'非都市土地使用分區':'land_use_district',\n",
    "'非都市土地使用編定':'land_use',\n",
    "'交易年月日':'tx_dt', \n",
    " '交易筆棟數':'transaction_pen_number', \n",
    " '移轉層次':'shifting_level', \n",
    " '總樓層數':'total_floor_number', \n",
    " '建物型態':'building_state', \n",
    " '主要用途':'main_use', \n",
    " '主要建材':'main_materials',\n",
    " '建築完成年月':'complete_date', \n",
    " '建物移轉總面積平方公尺':'building_area_square_meter', \n",
    " '建物現況格局-房':'room_number', \n",
    " '建物現況格局-廳':'hall_number', \n",
    " '建物現況格局-衛':'health_number', \n",
    "'建物現況格局-隔間':'compartmented_number', \n",
    " '有無管理組織':'manages', \n",
    " '總價元':'total_price', \n",
    " '單價元平方公尺':'unit_price', \n",
    " '車位類別':'berth_category', \n",
    " '車位移轉總面積(平方公尺)':'berth_area_square_meter',\n",
    "'車位總價元':'berth_price', \n",
    " '備註':'note', \n",
    " '編號':'serial_number', \n",
    " '主建物面積':'main_building_area', \n",
    " '附屬建物面積':'auxiliary_building_area', \n",
    " '陽台面積':'balcony_area', \n",
    " '電梯':'elevator'\n",
    "                  }\n",
    "analysis_columns = ['city','towns','main_use','use_zoning','total_price','building_area_square_meter',\n",
    "                                     'main_building_area',\n",
    "                                     'tx_dt','unit_price','room_number','hall_number','health_number']\n",
    "columns_type = {'total_price': 'int','unit_price':'float','building_area_square_meter':'float',\n",
    "                                      'main_building_area': 'float',\n",
    "                                      'room_number': 'int','hall_number': 'int','health_number': 'int'}"
   ]
  },
  {
   "cell_type": "code",
   "execution_count": 7,
   "metadata": {
    "id": "JFrw25keAtpe",
    "scrolled": true
   },
   "outputs": [],
   "source": [
    "#1. 利用.rename()並配合以下columns_mapping，將原中文欄位名稱改為英文方便之後分析\n",
    "df = df.rename(mapper = columns_mapping, axis=1)"
   ]
  },
  {
   "cell_type": "code",
   "execution_count": 8,
   "metadata": {
    "id": "GMPSUJFcAtpf"
   },
   "outputs": [],
   "source": [
    "#2. 取出主要用途(main_use)為'住家用'以及都市土地使用分區(use_zoning)為'住'的資料並針對以下欄位analysis_columns做分析並去除na值 \n",
    "#   (提示:先取完之後再.dropna())\n",
    "\n",
    "df = df.loc[df['main_use']=='住家用'] \n",
    "df = df.loc[df['use_zoning']=='住']\n",
    "df = df[analysis_columns].dropna().reset_index(drop=True)"
   ]
  },
  {
   "cell_type": "code",
   "execution_count": 9,
   "metadata": {
    "id": "Y5_BWtUpAtph"
   },
   "outputs": [
    {
     "data": {
      "text/plain": [
       "city                           object\n",
       "towns                          object\n",
       "main_use                       object\n",
       "use_zoning                     object\n",
       "total_price                     int64\n",
       "building_area_square_meter    float64\n",
       "main_building_area            float64\n",
       "tx_dt                           int64\n",
       "unit_price                    float64\n",
       "room_number                     int64\n",
       "hall_number                     int64\n",
       "health_number                   int64\n",
       "dtype: object"
      ]
     },
     "execution_count": 9,
     "metadata": {},
     "output_type": "execute_result"
    }
   ],
   "source": [
    "#3. 觀察欄位資料型態，並利用.astype()搭配以下提供的columns_type做欄位型態轉換\n",
    "for i in columns_type:\n",
    "    df[i] = df[i].astype(columns_type[i])\n",
    "df.dtypes"
   ]
  },
  {
   "cell_type": "code",
   "execution_count": 10,
   "metadata": {},
   "outputs": [
    {
     "data": {
      "text/plain": [
       "Index(['city', 'towns', 'main_use', 'use_zoning', 'total_price',\n",
       "       'building_area_square_meter', 'main_building_area', 'tx_dt',\n",
       "       'unit_price', 'room_number', 'hall_number', 'health_number'],\n",
       "      dtype='object')"
      ]
     },
     "execution_count": 10,
     "metadata": {},
     "output_type": "execute_result"
    }
   ],
   "source": [
    "df.columns"
   ]
  },
  {
   "cell_type": "code",
   "execution_count": 11,
   "metadata": {
    "id": "AxF8yHDeAtph",
    "scrolled": true
   },
   "outputs": [
    {
     "name": "stderr",
     "output_type": "stream",
     "text": [
      "/Users/becca/anaconda3/envs/PS/lib/python3.7/site-packages/ipykernel_launcher.py:10: SettingWithCopyWarning: \n",
      "A value is trying to be set on a copy of a slice from a DataFrame\n",
      "\n",
      "See the caveats in the documentation: https://pandas.pydata.org/pandas-docs/stable/user_guide/indexing.html#returning-a-view-versus-a-copy\n",
      "  # Remove the CWD from sys.path while we load stuff.\n"
     ]
    }
   ],
   "source": [
    "#4. 做資料切片將\n",
    "#     新增欄位交易年月日(tx_dt_year)，從交易年月日(tx_dt)萃取出年份\n",
    "#     1.交易年月日(tx_dt_year)，限制在109年\n",
    "#     2.建物現況格局-房(room_number)，限制在1到5間\n",
    "#     3.建物現況格局-廳(hall_number)，限制在1到2廳\n",
    "#     4.最後運用.reset_index()重新定義索引\n",
    "\n",
    "df['tx_dt_year']=0\n",
    "for i in range(len(df)):\n",
    "    df['tx_dt_year'][i] = int(str(df.tx_dt[i])[:3])\n",
    "df = df.loc[(df['tx_dt_year']=='109') & \n",
    "            (5>=df['room_number']) | (df['room_number']>=1) & \n",
    "            (2>=df['hall_number']) | (df['hall_number']>=1)]\n",
    "df = df.reset_index(drop=True)"
   ]
  },
  {
   "cell_type": "code",
   "execution_count": 12,
   "metadata": {},
   "outputs": [
    {
     "data": {
      "text/html": [
       "<div>\n",
       "<style scoped>\n",
       "    .dataframe tbody tr th:only-of-type {\n",
       "        vertical-align: middle;\n",
       "    }\n",
       "\n",
       "    .dataframe tbody tr th {\n",
       "        vertical-align: top;\n",
       "    }\n",
       "\n",
       "    .dataframe thead th {\n",
       "        text-align: right;\n",
       "    }\n",
       "</style>\n",
       "<table border=\"1\" class=\"dataframe\">\n",
       "  <thead>\n",
       "    <tr style=\"text-align: right;\">\n",
       "      <th></th>\n",
       "      <th>city</th>\n",
       "      <th>towns</th>\n",
       "      <th>main_use</th>\n",
       "      <th>use_zoning</th>\n",
       "      <th>total_price</th>\n",
       "      <th>building_area_square_meter</th>\n",
       "      <th>main_building_area</th>\n",
       "      <th>tx_dt</th>\n",
       "      <th>unit_price</th>\n",
       "      <th>room_number</th>\n",
       "      <th>hall_number</th>\n",
       "      <th>health_number</th>\n",
       "      <th>tx_dt_year</th>\n",
       "    </tr>\n",
       "  </thead>\n",
       "  <tbody>\n",
       "    <tr>\n",
       "      <th>0</th>\n",
       "      <td>Taipei</td>\n",
       "      <td>文山區</td>\n",
       "      <td>住家用</td>\n",
       "      <td>住</td>\n",
       "      <td>5580000</td>\n",
       "      <td>37.31</td>\n",
       "      <td>24.58</td>\n",
       "      <td>1090317</td>\n",
       "      <td>149558.0</td>\n",
       "      <td>2</td>\n",
       "      <td>1</td>\n",
       "      <td>1</td>\n",
       "      <td>109</td>\n",
       "    </tr>\n",
       "    <tr>\n",
       "      <th>1</th>\n",
       "      <td>Taipei</td>\n",
       "      <td>文山區</td>\n",
       "      <td>住家用</td>\n",
       "      <td>住</td>\n",
       "      <td>18280000</td>\n",
       "      <td>123.66</td>\n",
       "      <td>98.74</td>\n",
       "      <td>1090328</td>\n",
       "      <td>147825.0</td>\n",
       "      <td>3</td>\n",
       "      <td>2</td>\n",
       "      <td>2</td>\n",
       "      <td>109</td>\n",
       "    </tr>\n",
       "    <tr>\n",
       "      <th>2</th>\n",
       "      <td>Taipei</td>\n",
       "      <td>文山區</td>\n",
       "      <td>住家用</td>\n",
       "      <td>住</td>\n",
       "      <td>8000000</td>\n",
       "      <td>124.25</td>\n",
       "      <td>90.78</td>\n",
       "      <td>1090417</td>\n",
       "      <td>64386.0</td>\n",
       "      <td>3</td>\n",
       "      <td>1</td>\n",
       "      <td>2</td>\n",
       "      <td>109</td>\n",
       "    </tr>\n",
       "    <tr>\n",
       "      <th>3</th>\n",
       "      <td>Taipei</td>\n",
       "      <td>文山區</td>\n",
       "      <td>住家用</td>\n",
       "      <td>住</td>\n",
       "      <td>2200000</td>\n",
       "      <td>30.16</td>\n",
       "      <td>26.15</td>\n",
       "      <td>1090417</td>\n",
       "      <td>72944.0</td>\n",
       "      <td>5</td>\n",
       "      <td>2</td>\n",
       "      <td>2</td>\n",
       "      <td>109</td>\n",
       "    </tr>\n",
       "    <tr>\n",
       "      <th>4</th>\n",
       "      <td>Taipei</td>\n",
       "      <td>文山區</td>\n",
       "      <td>住家用</td>\n",
       "      <td>住</td>\n",
       "      <td>12000000</td>\n",
       "      <td>106.36</td>\n",
       "      <td>42.19</td>\n",
       "      <td>1090419</td>\n",
       "      <td>150473.0</td>\n",
       "      <td>2</td>\n",
       "      <td>2</td>\n",
       "      <td>1</td>\n",
       "      <td>109</td>\n",
       "    </tr>\n",
       "    <tr>\n",
       "      <th>...</th>\n",
       "      <td>...</td>\n",
       "      <td>...</td>\n",
       "      <td>...</td>\n",
       "      <td>...</td>\n",
       "      <td>...</td>\n",
       "      <td>...</td>\n",
       "      <td>...</td>\n",
       "      <td>...</td>\n",
       "      <td>...</td>\n",
       "      <td>...</td>\n",
       "      <td>...</td>\n",
       "      <td>...</td>\n",
       "      <td>...</td>\n",
       "    </tr>\n",
       "    <tr>\n",
       "      <th>7637</th>\n",
       "      <td>Kaohsung</td>\n",
       "      <td>路竹區</td>\n",
       "      <td>住家用</td>\n",
       "      <td>住</td>\n",
       "      <td>5300000</td>\n",
       "      <td>140.11</td>\n",
       "      <td>86.24</td>\n",
       "      <td>1090718</td>\n",
       "      <td>37827.0</td>\n",
       "      <td>3</td>\n",
       "      <td>2</td>\n",
       "      <td>2</td>\n",
       "      <td>109</td>\n",
       "    </tr>\n",
       "    <tr>\n",
       "      <th>7638</th>\n",
       "      <td>Kaohsung</td>\n",
       "      <td>路竹區</td>\n",
       "      <td>住家用</td>\n",
       "      <td>住</td>\n",
       "      <td>5050000</td>\n",
       "      <td>144.76</td>\n",
       "      <td>101.76</td>\n",
       "      <td>1090802</td>\n",
       "      <td>34885.0</td>\n",
       "      <td>3</td>\n",
       "      <td>2</td>\n",
       "      <td>2</td>\n",
       "      <td>109</td>\n",
       "    </tr>\n",
       "    <tr>\n",
       "      <th>7639</th>\n",
       "      <td>Kaohsung</td>\n",
       "      <td>茄萣區</td>\n",
       "      <td>住家用</td>\n",
       "      <td>住</td>\n",
       "      <td>2720000</td>\n",
       "      <td>210.78</td>\n",
       "      <td>144.40</td>\n",
       "      <td>1090725</td>\n",
       "      <td>12904.0</td>\n",
       "      <td>5</td>\n",
       "      <td>2</td>\n",
       "      <td>3</td>\n",
       "      <td>109</td>\n",
       "    </tr>\n",
       "    <tr>\n",
       "      <th>7640</th>\n",
       "      <td>Kaohsung</td>\n",
       "      <td>路竹區</td>\n",
       "      <td>住家用</td>\n",
       "      <td>住</td>\n",
       "      <td>4950000</td>\n",
       "      <td>94.48</td>\n",
       "      <td>94.48</td>\n",
       "      <td>1090726</td>\n",
       "      <td>52392.0</td>\n",
       "      <td>3</td>\n",
       "      <td>2</td>\n",
       "      <td>2</td>\n",
       "      <td>109</td>\n",
       "    </tr>\n",
       "    <tr>\n",
       "      <th>7641</th>\n",
       "      <td>Kaohsung</td>\n",
       "      <td>路竹區</td>\n",
       "      <td>住家用</td>\n",
       "      <td>住</td>\n",
       "      <td>9800000</td>\n",
       "      <td>80.40</td>\n",
       "      <td>80.40</td>\n",
       "      <td>1090701</td>\n",
       "      <td>121891.0</td>\n",
       "      <td>9</td>\n",
       "      <td>0</td>\n",
       "      <td>9</td>\n",
       "      <td>109</td>\n",
       "    </tr>\n",
       "  </tbody>\n",
       "</table>\n",
       "<p>7642 rows × 13 columns</p>\n",
       "</div>"
      ],
      "text/plain": [
       "          city towns main_use use_zoning  total_price  \\\n",
       "0       Taipei   文山區      住家用          住      5580000   \n",
       "1       Taipei   文山區      住家用          住     18280000   \n",
       "2       Taipei   文山區      住家用          住      8000000   \n",
       "3       Taipei   文山區      住家用          住      2200000   \n",
       "4       Taipei   文山區      住家用          住     12000000   \n",
       "...        ...   ...      ...        ...          ...   \n",
       "7637  Kaohsung   路竹區      住家用          住      5300000   \n",
       "7638  Kaohsung   路竹區      住家用          住      5050000   \n",
       "7639  Kaohsung   茄萣區      住家用          住      2720000   \n",
       "7640  Kaohsung   路竹區      住家用          住      4950000   \n",
       "7641  Kaohsung   路竹區      住家用          住      9800000   \n",
       "\n",
       "      building_area_square_meter  main_building_area    tx_dt  unit_price  \\\n",
       "0                          37.31               24.58  1090317    149558.0   \n",
       "1                         123.66               98.74  1090328    147825.0   \n",
       "2                         124.25               90.78  1090417     64386.0   \n",
       "3                          30.16               26.15  1090417     72944.0   \n",
       "4                         106.36               42.19  1090419    150473.0   \n",
       "...                          ...                 ...      ...         ...   \n",
       "7637                      140.11               86.24  1090718     37827.0   \n",
       "7638                      144.76              101.76  1090802     34885.0   \n",
       "7639                      210.78              144.40  1090725     12904.0   \n",
       "7640                       94.48               94.48  1090726     52392.0   \n",
       "7641                       80.40               80.40  1090701    121891.0   \n",
       "\n",
       "      room_number  hall_number  health_number  tx_dt_year  \n",
       "0               2            1              1         109  \n",
       "1               3            2              2         109  \n",
       "2               3            1              2         109  \n",
       "3               5            2              2         109  \n",
       "4               2            2              1         109  \n",
       "...           ...          ...            ...         ...  \n",
       "7637            3            2              2         109  \n",
       "7638            3            2              2         109  \n",
       "7639            5            2              3         109  \n",
       "7640            3            2              2         109  \n",
       "7641            9            0              9         109  \n",
       "\n",
       "[7642 rows x 13 columns]"
      ]
     },
     "execution_count": 12,
     "metadata": {},
     "output_type": "execute_result"
    }
   ],
   "source": [
    "df"
   ]
  },
  {
   "cell_type": "markdown",
   "metadata": {
    "id": "zTOTmNDxAtpi"
   },
   "source": [
    "# 3. 建立自定義特徵加入分析\n"
   ]
  },
  {
   "cell_type": "markdown",
   "metadata": {
    "id": "cyL2au1aAtpi"
   },
   "source": [
    "以台灣來說大家都是以坪為單位計算使用面積，應該是不會問說你家有幾平方公尺吧?，但是偏偏資料中沒有以坪為單位計算，所以接下來請各位幫忙產生新的欄位以坪為單位計算面積，轉換公式我也幫你找好了，在下面的定義。<br>\n",
    "定義 : 1平方公尺相當於0.3025坪 <br>\n",
    "建立新特徵\n",
    "1. 建物移轉總面積坪(building_area_square_feet) : 建物移轉總面積平方公尺\\*0.3025\n",
    "2. 主建物面積坪(main_building_area_square_feet) : 主建物面積\\*0.3025\n",
    "3. 單價元坪(unit_price_square_feet) : 單價元平方公尺/0.3025"
   ]
  },
  {
   "cell_type": "markdown",
   "metadata": {
    "id": "O-BL5boZAtpi"
   },
   "source": [
    "可以利用.describe()做一下資料觀察，是否有奇怪的資料?<br>\n",
    "如果有請將資料移除，並說明為什麼移除此資料?<br>\n",
    "移除後再用.describe()觀察是否還有奇怪的資料?"
   ]
  },
  {
   "cell_type": "code",
   "execution_count": 13,
   "metadata": {
    "id": "vWILawwvAtpj"
   },
   "outputs": [],
   "source": [
    "# 建立新特徵\n",
    "# 1. 建物移轉總面積坪(building_area_square_feet) : 建物移轉總面積平方公尺*0.3025\n",
    "# 2. 主建物面積坪(main_building_area_square_feet) : 主建物面積*0.3025\n",
    "# 3. 單價元坪(unit_price_square_feet) : 單價元平方公尺/0.3025\n",
    "df['building_area_square_feet'] = df['building_area_square_meter']*0.3025\n",
    "df['main_building_area_square_feet'] = df['main_building_area']*0.3025\n",
    "df['unit_price_square_feet'] = df['unit_price']/0.3025"
   ]
  },
  {
   "cell_type": "code",
   "execution_count": 14,
   "metadata": {
    "id": "ZuAZPbnNAtpj",
    "scrolled": true
   },
   "outputs": [
    {
     "data": {
      "text/html": [
       "<div>\n",
       "<style scoped>\n",
       "    .dataframe tbody tr th:only-of-type {\n",
       "        vertical-align: middle;\n",
       "    }\n",
       "\n",
       "    .dataframe tbody tr th {\n",
       "        vertical-align: top;\n",
       "    }\n",
       "\n",
       "    .dataframe thead th {\n",
       "        text-align: right;\n",
       "    }\n",
       "</style>\n",
       "<table border=\"1\" class=\"dataframe\">\n",
       "  <thead>\n",
       "    <tr style=\"text-align: right;\">\n",
       "      <th></th>\n",
       "      <th>total_price</th>\n",
       "      <th>building_area_square_meter</th>\n",
       "      <th>main_building_area</th>\n",
       "      <th>tx_dt</th>\n",
       "      <th>unit_price</th>\n",
       "      <th>room_number</th>\n",
       "      <th>hall_number</th>\n",
       "      <th>health_number</th>\n",
       "      <th>tx_dt_year</th>\n",
       "      <th>building_area_square_feet</th>\n",
       "      <th>main_building_area_square_feet</th>\n",
       "      <th>unit_price_square_feet</th>\n",
       "    </tr>\n",
       "  </thead>\n",
       "  <tbody>\n",
       "    <tr>\n",
       "      <th>count</th>\n",
       "      <td>7.642000e+03</td>\n",
       "      <td>7642.000000</td>\n",
       "      <td>7642.000000</td>\n",
       "      <td>7.642000e+03</td>\n",
       "      <td>7642.000000</td>\n",
       "      <td>7642.000000</td>\n",
       "      <td>7642.000000</td>\n",
       "      <td>7642.000000</td>\n",
       "      <td>7642.000000</td>\n",
       "      <td>7642.000000</td>\n",
       "      <td>7642.000000</td>\n",
       "      <td>7.642000e+03</td>\n",
       "    </tr>\n",
       "    <tr>\n",
       "      <th>mean</th>\n",
       "      <td>1.174300e+07</td>\n",
       "      <td>123.665824</td>\n",
       "      <td>84.894704</td>\n",
       "      <td>1.090242e+06</td>\n",
       "      <td>95259.023685</td>\n",
       "      <td>2.965977</td>\n",
       "      <td>1.787098</td>\n",
       "      <td>1.876341</td>\n",
       "      <td>109.093954</td>\n",
       "      <td>37.408912</td>\n",
       "      <td>25.680648</td>\n",
       "      <td>3.149059e+05</td>\n",
       "    </tr>\n",
       "    <tr>\n",
       "      <th>std</th>\n",
       "      <td>1.265232e+07</td>\n",
       "      <td>69.136032</td>\n",
       "      <td>45.046909</td>\n",
       "      <td>2.498773e+03</td>\n",
       "      <td>59732.220698</td>\n",
       "      <td>1.400224</td>\n",
       "      <td>0.653643</td>\n",
       "      <td>1.270823</td>\n",
       "      <td>10.080714</td>\n",
       "      <td>20.913650</td>\n",
       "      <td>13.626690</td>\n",
       "      <td>1.974619e+05</td>\n",
       "    </tr>\n",
       "    <tr>\n",
       "      <th>min</th>\n",
       "      <td>0.000000e+00</td>\n",
       "      <td>0.970000</td>\n",
       "      <td>0.000000</td>\n",
       "      <td>9.906010e+05</td>\n",
       "      <td>0.000000</td>\n",
       "      <td>0.000000</td>\n",
       "      <td>0.000000</td>\n",
       "      <td>0.000000</td>\n",
       "      <td>102.000000</td>\n",
       "      <td>0.293425</td>\n",
       "      <td>0.000000</td>\n",
       "      <td>0.000000e+00</td>\n",
       "    </tr>\n",
       "    <tr>\n",
       "      <th>25%</th>\n",
       "      <td>5.550000e+06</td>\n",
       "      <td>82.500000</td>\n",
       "      <td>60.640000</td>\n",
       "      <td>1.090415e+06</td>\n",
       "      <td>53604.000000</td>\n",
       "      <td>2.000000</td>\n",
       "      <td>2.000000</td>\n",
       "      <td>1.000000</td>\n",
       "      <td>109.000000</td>\n",
       "      <td>24.956250</td>\n",
       "      <td>18.343600</td>\n",
       "      <td>1.772033e+05</td>\n",
       "    </tr>\n",
       "    <tr>\n",
       "      <th>50%</th>\n",
       "      <td>8.600000e+06</td>\n",
       "      <td>109.210000</td>\n",
       "      <td>79.745000</td>\n",
       "      <td>1.090502e+06</td>\n",
       "      <td>79632.500000</td>\n",
       "      <td>3.000000</td>\n",
       "      <td>2.000000</td>\n",
       "      <td>2.000000</td>\n",
       "      <td>109.000000</td>\n",
       "      <td>33.036025</td>\n",
       "      <td>24.122862</td>\n",
       "      <td>2.632479e+05</td>\n",
       "    </tr>\n",
       "    <tr>\n",
       "      <th>75%</th>\n",
       "      <td>1.350000e+07</td>\n",
       "      <td>150.245000</td>\n",
       "      <td>98.310000</td>\n",
       "      <td>1.090517e+06</td>\n",
       "      <td>119201.000000</td>\n",
       "      <td>3.000000</td>\n",
       "      <td>2.000000</td>\n",
       "      <td>2.000000</td>\n",
       "      <td>109.000000</td>\n",
       "      <td>45.449112</td>\n",
       "      <td>29.738775</td>\n",
       "      <td>3.940529e+05</td>\n",
       "    </tr>\n",
       "    <tr>\n",
       "      <th>max</th>\n",
       "      <td>2.250000e+08</td>\n",
       "      <td>1444.950000</td>\n",
       "      <td>910.920000</td>\n",
       "      <td>1.090802e+06</td>\n",
       "      <td>610104.000000</td>\n",
       "      <td>65.000000</td>\n",
       "      <td>21.000000</td>\n",
       "      <td>66.000000</td>\n",
       "      <td>990.000000</td>\n",
       "      <td>437.097375</td>\n",
       "      <td>275.553300</td>\n",
       "      <td>2.016873e+06</td>\n",
       "    </tr>\n",
       "  </tbody>\n",
       "</table>\n",
       "</div>"
      ],
      "text/plain": [
       "        total_price  building_area_square_meter  main_building_area  \\\n",
       "count  7.642000e+03                 7642.000000         7642.000000   \n",
       "mean   1.174300e+07                  123.665824           84.894704   \n",
       "std    1.265232e+07                   69.136032           45.046909   \n",
       "min    0.000000e+00                    0.970000            0.000000   \n",
       "25%    5.550000e+06                   82.500000           60.640000   \n",
       "50%    8.600000e+06                  109.210000           79.745000   \n",
       "75%    1.350000e+07                  150.245000           98.310000   \n",
       "max    2.250000e+08                 1444.950000          910.920000   \n",
       "\n",
       "              tx_dt     unit_price  room_number  hall_number  health_number  \\\n",
       "count  7.642000e+03    7642.000000  7642.000000  7642.000000    7642.000000   \n",
       "mean   1.090242e+06   95259.023685     2.965977     1.787098       1.876341   \n",
       "std    2.498773e+03   59732.220698     1.400224     0.653643       1.270823   \n",
       "min    9.906010e+05       0.000000     0.000000     0.000000       0.000000   \n",
       "25%    1.090415e+06   53604.000000     2.000000     2.000000       1.000000   \n",
       "50%    1.090502e+06   79632.500000     3.000000     2.000000       2.000000   \n",
       "75%    1.090517e+06  119201.000000     3.000000     2.000000       2.000000   \n",
       "max    1.090802e+06  610104.000000    65.000000    21.000000      66.000000   \n",
       "\n",
       "        tx_dt_year  building_area_square_feet  main_building_area_square_feet  \\\n",
       "count  7642.000000                7642.000000                     7642.000000   \n",
       "mean    109.093954                  37.408912                       25.680648   \n",
       "std      10.080714                  20.913650                       13.626690   \n",
       "min     102.000000                   0.293425                        0.000000   \n",
       "25%     109.000000                  24.956250                       18.343600   \n",
       "50%     109.000000                  33.036025                       24.122862   \n",
       "75%     109.000000                  45.449112                       29.738775   \n",
       "max     990.000000                 437.097375                      275.553300   \n",
       "\n",
       "       unit_price_square_feet  \n",
       "count            7.642000e+03  \n",
       "mean             3.149059e+05  \n",
       "std              1.974619e+05  \n",
       "min              0.000000e+00  \n",
       "25%              1.772033e+05  \n",
       "50%              2.632479e+05  \n",
       "75%              3.940529e+05  \n",
       "max              2.016873e+06  "
      ]
     },
     "execution_count": 14,
     "metadata": {},
     "output_type": "execute_result"
    }
   ],
   "source": [
    "# 可以利用.describe()做一下資料觀察，是否有奇怪的資料?\n",
    "# 如果有請將資料移除，並說明為什麼移除此資料?\n",
    "df.describe()\n",
    "#有，主建物面積坪、建物移轉總面積坪為0的資料"
   ]
  },
  {
   "cell_type": "code",
   "execution_count": 15,
   "metadata": {},
   "outputs": [],
   "source": [
    "df = df.reset_index(drop=True)"
   ]
  },
  {
   "cell_type": "code",
   "execution_count": 16,
   "metadata": {},
   "outputs": [],
   "source": [
    "pop=[]\n",
    "for i in df.columns:\n",
    "    for j in range(len(df)):\n",
    "        if df[i][j] == 0:\n",
    "            pop.append(j)\n",
    "df = df.drop(pop).reset_index(drop=True)"
   ]
  },
  {
   "cell_type": "code",
   "execution_count": 17,
   "metadata": {},
   "outputs": [
    {
     "data": {
      "text/html": [
       "<div>\n",
       "<style scoped>\n",
       "    .dataframe tbody tr th:only-of-type {\n",
       "        vertical-align: middle;\n",
       "    }\n",
       "\n",
       "    .dataframe tbody tr th {\n",
       "        vertical-align: top;\n",
       "    }\n",
       "\n",
       "    .dataframe thead th {\n",
       "        text-align: right;\n",
       "    }\n",
       "</style>\n",
       "<table border=\"1\" class=\"dataframe\">\n",
       "  <thead>\n",
       "    <tr style=\"text-align: right;\">\n",
       "      <th></th>\n",
       "      <th>city</th>\n",
       "      <th>towns</th>\n",
       "      <th>main_use</th>\n",
       "      <th>use_zoning</th>\n",
       "      <th>total_price</th>\n",
       "      <th>building_area_square_meter</th>\n",
       "      <th>main_building_area</th>\n",
       "      <th>tx_dt</th>\n",
       "      <th>unit_price</th>\n",
       "      <th>room_number</th>\n",
       "      <th>hall_number</th>\n",
       "      <th>health_number</th>\n",
       "      <th>tx_dt_year</th>\n",
       "      <th>building_area_square_feet</th>\n",
       "      <th>main_building_area_square_feet</th>\n",
       "      <th>unit_price_square_feet</th>\n",
       "    </tr>\n",
       "  </thead>\n",
       "  <tbody>\n",
       "    <tr>\n",
       "      <th>0</th>\n",
       "      <td>Taipei</td>\n",
       "      <td>文山區</td>\n",
       "      <td>住家用</td>\n",
       "      <td>住</td>\n",
       "      <td>5580000</td>\n",
       "      <td>37.31</td>\n",
       "      <td>24.58</td>\n",
       "      <td>1090317</td>\n",
       "      <td>149558.0</td>\n",
       "      <td>2</td>\n",
       "      <td>1</td>\n",
       "      <td>1</td>\n",
       "      <td>109</td>\n",
       "      <td>11.286275</td>\n",
       "      <td>7.435450</td>\n",
       "      <td>494406.611570</td>\n",
       "    </tr>\n",
       "    <tr>\n",
       "      <th>1</th>\n",
       "      <td>Taipei</td>\n",
       "      <td>文山區</td>\n",
       "      <td>住家用</td>\n",
       "      <td>住</td>\n",
       "      <td>18280000</td>\n",
       "      <td>123.66</td>\n",
       "      <td>98.74</td>\n",
       "      <td>1090328</td>\n",
       "      <td>147825.0</td>\n",
       "      <td>3</td>\n",
       "      <td>2</td>\n",
       "      <td>2</td>\n",
       "      <td>109</td>\n",
       "      <td>37.407150</td>\n",
       "      <td>29.868850</td>\n",
       "      <td>488677.685950</td>\n",
       "    </tr>\n",
       "    <tr>\n",
       "      <th>2</th>\n",
       "      <td>Taipei</td>\n",
       "      <td>文山區</td>\n",
       "      <td>住家用</td>\n",
       "      <td>住</td>\n",
       "      <td>8000000</td>\n",
       "      <td>124.25</td>\n",
       "      <td>90.78</td>\n",
       "      <td>1090417</td>\n",
       "      <td>64386.0</td>\n",
       "      <td>3</td>\n",
       "      <td>1</td>\n",
       "      <td>2</td>\n",
       "      <td>109</td>\n",
       "      <td>37.585625</td>\n",
       "      <td>27.460950</td>\n",
       "      <td>212846.280992</td>\n",
       "    </tr>\n",
       "    <tr>\n",
       "      <th>3</th>\n",
       "      <td>Taipei</td>\n",
       "      <td>文山區</td>\n",
       "      <td>住家用</td>\n",
       "      <td>住</td>\n",
       "      <td>2200000</td>\n",
       "      <td>30.16</td>\n",
       "      <td>26.15</td>\n",
       "      <td>1090417</td>\n",
       "      <td>72944.0</td>\n",
       "      <td>5</td>\n",
       "      <td>2</td>\n",
       "      <td>2</td>\n",
       "      <td>109</td>\n",
       "      <td>9.123400</td>\n",
       "      <td>7.910375</td>\n",
       "      <td>241137.190083</td>\n",
       "    </tr>\n",
       "    <tr>\n",
       "      <th>4</th>\n",
       "      <td>Taipei</td>\n",
       "      <td>文山區</td>\n",
       "      <td>住家用</td>\n",
       "      <td>住</td>\n",
       "      <td>12000000</td>\n",
       "      <td>106.36</td>\n",
       "      <td>42.19</td>\n",
       "      <td>1090419</td>\n",
       "      <td>150473.0</td>\n",
       "      <td>2</td>\n",
       "      <td>2</td>\n",
       "      <td>1</td>\n",
       "      <td>109</td>\n",
       "      <td>32.173900</td>\n",
       "      <td>12.762475</td>\n",
       "      <td>497431.404959</td>\n",
       "    </tr>\n",
       "    <tr>\n",
       "      <th>...</th>\n",
       "      <td>...</td>\n",
       "      <td>...</td>\n",
       "      <td>...</td>\n",
       "      <td>...</td>\n",
       "      <td>...</td>\n",
       "      <td>...</td>\n",
       "      <td>...</td>\n",
       "      <td>...</td>\n",
       "      <td>...</td>\n",
       "      <td>...</td>\n",
       "      <td>...</td>\n",
       "      <td>...</td>\n",
       "      <td>...</td>\n",
       "      <td>...</td>\n",
       "      <td>...</td>\n",
       "      <td>...</td>\n",
       "    </tr>\n",
       "    <tr>\n",
       "      <th>7297</th>\n",
       "      <td>Kaohsung</td>\n",
       "      <td>路竹區</td>\n",
       "      <td>住家用</td>\n",
       "      <td>住</td>\n",
       "      <td>13000000</td>\n",
       "      <td>214.28</td>\n",
       "      <td>202.04</td>\n",
       "      <td>1090518</td>\n",
       "      <td>60668.0</td>\n",
       "      <td>4</td>\n",
       "      <td>3</td>\n",
       "      <td>4</td>\n",
       "      <td>109</td>\n",
       "      <td>64.819700</td>\n",
       "      <td>61.117100</td>\n",
       "      <td>200555.371901</td>\n",
       "    </tr>\n",
       "    <tr>\n",
       "      <th>7298</th>\n",
       "      <td>Kaohsung</td>\n",
       "      <td>路竹區</td>\n",
       "      <td>住家用</td>\n",
       "      <td>住</td>\n",
       "      <td>5300000</td>\n",
       "      <td>140.11</td>\n",
       "      <td>86.24</td>\n",
       "      <td>1090718</td>\n",
       "      <td>37827.0</td>\n",
       "      <td>3</td>\n",
       "      <td>2</td>\n",
       "      <td>2</td>\n",
       "      <td>109</td>\n",
       "      <td>42.383275</td>\n",
       "      <td>26.087600</td>\n",
       "      <td>125047.933884</td>\n",
       "    </tr>\n",
       "    <tr>\n",
       "      <th>7299</th>\n",
       "      <td>Kaohsung</td>\n",
       "      <td>路竹區</td>\n",
       "      <td>住家用</td>\n",
       "      <td>住</td>\n",
       "      <td>5050000</td>\n",
       "      <td>144.76</td>\n",
       "      <td>101.76</td>\n",
       "      <td>1090802</td>\n",
       "      <td>34885.0</td>\n",
       "      <td>3</td>\n",
       "      <td>2</td>\n",
       "      <td>2</td>\n",
       "      <td>109</td>\n",
       "      <td>43.789900</td>\n",
       "      <td>30.782400</td>\n",
       "      <td>115322.314050</td>\n",
       "    </tr>\n",
       "    <tr>\n",
       "      <th>7300</th>\n",
       "      <td>Kaohsung</td>\n",
       "      <td>茄萣區</td>\n",
       "      <td>住家用</td>\n",
       "      <td>住</td>\n",
       "      <td>2720000</td>\n",
       "      <td>210.78</td>\n",
       "      <td>144.40</td>\n",
       "      <td>1090725</td>\n",
       "      <td>12904.0</td>\n",
       "      <td>5</td>\n",
       "      <td>2</td>\n",
       "      <td>3</td>\n",
       "      <td>109</td>\n",
       "      <td>63.760950</td>\n",
       "      <td>43.681000</td>\n",
       "      <td>42657.851240</td>\n",
       "    </tr>\n",
       "    <tr>\n",
       "      <th>7301</th>\n",
       "      <td>Kaohsung</td>\n",
       "      <td>路竹區</td>\n",
       "      <td>住家用</td>\n",
       "      <td>住</td>\n",
       "      <td>4950000</td>\n",
       "      <td>94.48</td>\n",
       "      <td>94.48</td>\n",
       "      <td>1090726</td>\n",
       "      <td>52392.0</td>\n",
       "      <td>3</td>\n",
       "      <td>2</td>\n",
       "      <td>2</td>\n",
       "      <td>109</td>\n",
       "      <td>28.580200</td>\n",
       "      <td>28.580200</td>\n",
       "      <td>173196.694215</td>\n",
       "    </tr>\n",
       "  </tbody>\n",
       "</table>\n",
       "<p>7302 rows × 16 columns</p>\n",
       "</div>"
      ],
      "text/plain": [
       "          city towns main_use use_zoning  total_price  \\\n",
       "0       Taipei   文山區      住家用          住      5580000   \n",
       "1       Taipei   文山區      住家用          住     18280000   \n",
       "2       Taipei   文山區      住家用          住      8000000   \n",
       "3       Taipei   文山區      住家用          住      2200000   \n",
       "4       Taipei   文山區      住家用          住     12000000   \n",
       "...        ...   ...      ...        ...          ...   \n",
       "7297  Kaohsung   路竹區      住家用          住     13000000   \n",
       "7298  Kaohsung   路竹區      住家用          住      5300000   \n",
       "7299  Kaohsung   路竹區      住家用          住      5050000   \n",
       "7300  Kaohsung   茄萣區      住家用          住      2720000   \n",
       "7301  Kaohsung   路竹區      住家用          住      4950000   \n",
       "\n",
       "      building_area_square_meter  main_building_area    tx_dt  unit_price  \\\n",
       "0                          37.31               24.58  1090317    149558.0   \n",
       "1                         123.66               98.74  1090328    147825.0   \n",
       "2                         124.25               90.78  1090417     64386.0   \n",
       "3                          30.16               26.15  1090417     72944.0   \n",
       "4                         106.36               42.19  1090419    150473.0   \n",
       "...                          ...                 ...      ...         ...   \n",
       "7297                      214.28              202.04  1090518     60668.0   \n",
       "7298                      140.11               86.24  1090718     37827.0   \n",
       "7299                      144.76              101.76  1090802     34885.0   \n",
       "7300                      210.78              144.40  1090725     12904.0   \n",
       "7301                       94.48               94.48  1090726     52392.0   \n",
       "\n",
       "      room_number  hall_number  health_number  tx_dt_year  \\\n",
       "0               2            1              1         109   \n",
       "1               3            2              2         109   \n",
       "2               3            1              2         109   \n",
       "3               5            2              2         109   \n",
       "4               2            2              1         109   \n",
       "...           ...          ...            ...         ...   \n",
       "7297            4            3              4         109   \n",
       "7298            3            2              2         109   \n",
       "7299            3            2              2         109   \n",
       "7300            5            2              3         109   \n",
       "7301            3            2              2         109   \n",
       "\n",
       "      building_area_square_feet  main_building_area_square_feet  \\\n",
       "0                     11.286275                        7.435450   \n",
       "1                     37.407150                       29.868850   \n",
       "2                     37.585625                       27.460950   \n",
       "3                      9.123400                        7.910375   \n",
       "4                     32.173900                       12.762475   \n",
       "...                         ...                             ...   \n",
       "7297                  64.819700                       61.117100   \n",
       "7298                  42.383275                       26.087600   \n",
       "7299                  43.789900                       30.782400   \n",
       "7300                  63.760950                       43.681000   \n",
       "7301                  28.580200                       28.580200   \n",
       "\n",
       "      unit_price_square_feet  \n",
       "0              494406.611570  \n",
       "1              488677.685950  \n",
       "2              212846.280992  \n",
       "3              241137.190083  \n",
       "4              497431.404959  \n",
       "...                      ...  \n",
       "7297           200555.371901  \n",
       "7298           125047.933884  \n",
       "7299           115322.314050  \n",
       "7300            42657.851240  \n",
       "7301           173196.694215  \n",
       "\n",
       "[7302 rows x 16 columns]"
      ]
     },
     "execution_count": 17,
     "metadata": {},
     "output_type": "execute_result"
    }
   ],
   "source": [
    "df"
   ]
  },
  {
   "cell_type": "code",
   "execution_count": 18,
   "metadata": {
    "id": "qED9ygBDAtpj"
   },
   "outputs": [
    {
     "data": {
      "text/html": [
       "<div>\n",
       "<style scoped>\n",
       "    .dataframe tbody tr th:only-of-type {\n",
       "        vertical-align: middle;\n",
       "    }\n",
       "\n",
       "    .dataframe tbody tr th {\n",
       "        vertical-align: top;\n",
       "    }\n",
       "\n",
       "    .dataframe thead th {\n",
       "        text-align: right;\n",
       "    }\n",
       "</style>\n",
       "<table border=\"1\" class=\"dataframe\">\n",
       "  <thead>\n",
       "    <tr style=\"text-align: right;\">\n",
       "      <th></th>\n",
       "      <th>total_price</th>\n",
       "      <th>building_area_square_meter</th>\n",
       "      <th>main_building_area</th>\n",
       "      <th>tx_dt</th>\n",
       "      <th>unit_price</th>\n",
       "      <th>room_number</th>\n",
       "      <th>hall_number</th>\n",
       "      <th>health_number</th>\n",
       "      <th>tx_dt_year</th>\n",
       "      <th>building_area_square_feet</th>\n",
       "      <th>main_building_area_square_feet</th>\n",
       "      <th>unit_price_square_feet</th>\n",
       "    </tr>\n",
       "  </thead>\n",
       "  <tbody>\n",
       "    <tr>\n",
       "      <th>count</th>\n",
       "      <td>7.302000e+03</td>\n",
       "      <td>7302.000000</td>\n",
       "      <td>7302.000000</td>\n",
       "      <td>7.302000e+03</td>\n",
       "      <td>7302.000000</td>\n",
       "      <td>7302.000000</td>\n",
       "      <td>7302.000000</td>\n",
       "      <td>7302.000000</td>\n",
       "      <td>7302.000000</td>\n",
       "      <td>7302.000000</td>\n",
       "      <td>7302.000000</td>\n",
       "      <td>7.302000e+03</td>\n",
       "    </tr>\n",
       "    <tr>\n",
       "      <th>mean</th>\n",
       "      <td>1.192005e+07</td>\n",
       "      <td>125.472964</td>\n",
       "      <td>86.374082</td>\n",
       "      <td>1.090235e+06</td>\n",
       "      <td>95335.058751</td>\n",
       "      <td>2.970556</td>\n",
       "      <td>1.851274</td>\n",
       "      <td>1.833881</td>\n",
       "      <td>109.098740</td>\n",
       "      <td>37.955571</td>\n",
       "      <td>26.128160</td>\n",
       "      <td>3.151572e+05</td>\n",
       "    </tr>\n",
       "    <tr>\n",
       "      <th>std</th>\n",
       "      <td>1.278688e+07</td>\n",
       "      <td>68.539224</td>\n",
       "      <td>43.808644</td>\n",
       "      <td>2.548979e+03</td>\n",
       "      <td>59583.128096</td>\n",
       "      <td>1.296940</td>\n",
       "      <td>0.570767</td>\n",
       "      <td>1.138865</td>\n",
       "      <td>10.312723</td>\n",
       "      <td>20.733115</td>\n",
       "      <td>13.252115</td>\n",
       "      <td>1.969690e+05</td>\n",
       "    </tr>\n",
       "    <tr>\n",
       "      <th>min</th>\n",
       "      <td>4.100000e+05</td>\n",
       "      <td>7.440000</td>\n",
       "      <td>7.440000</td>\n",
       "      <td>9.906010e+05</td>\n",
       "      <td>3239.000000</td>\n",
       "      <td>1.000000</td>\n",
       "      <td>1.000000</td>\n",
       "      <td>1.000000</td>\n",
       "      <td>102.000000</td>\n",
       "      <td>2.250600</td>\n",
       "      <td>2.250600</td>\n",
       "      <td>1.070744e+04</td>\n",
       "    </tr>\n",
       "    <tr>\n",
       "      <th>25%</th>\n",
       "      <td>5.720000e+06</td>\n",
       "      <td>83.920000</td>\n",
       "      <td>62.272500</td>\n",
       "      <td>1.090415e+06</td>\n",
       "      <td>53625.500000</td>\n",
       "      <td>2.000000</td>\n",
       "      <td>2.000000</td>\n",
       "      <td>1.000000</td>\n",
       "      <td>109.000000</td>\n",
       "      <td>25.385800</td>\n",
       "      <td>18.837431</td>\n",
       "      <td>1.772744e+05</td>\n",
       "    </tr>\n",
       "    <tr>\n",
       "      <th>50%</th>\n",
       "      <td>8.800000e+06</td>\n",
       "      <td>110.535000</td>\n",
       "      <td>80.390000</td>\n",
       "      <td>1.090502e+06</td>\n",
       "      <td>80005.500000</td>\n",
       "      <td>3.000000</td>\n",
       "      <td>2.000000</td>\n",
       "      <td>2.000000</td>\n",
       "      <td>109.000000</td>\n",
       "      <td>33.436837</td>\n",
       "      <td>24.317975</td>\n",
       "      <td>2.644810e+05</td>\n",
       "    </tr>\n",
       "    <tr>\n",
       "      <th>75%</th>\n",
       "      <td>1.369500e+07</td>\n",
       "      <td>152.027500</td>\n",
       "      <td>98.925000</td>\n",
       "      <td>1.090517e+06</td>\n",
       "      <td>119458.250000</td>\n",
       "      <td>3.000000</td>\n",
       "      <td>2.000000</td>\n",
       "      <td>2.000000</td>\n",
       "      <td>109.000000</td>\n",
       "      <td>45.988319</td>\n",
       "      <td>29.924813</td>\n",
       "      <td>3.949033e+05</td>\n",
       "    </tr>\n",
       "    <tr>\n",
       "      <th>max</th>\n",
       "      <td>2.250000e+08</td>\n",
       "      <td>1444.950000</td>\n",
       "      <td>910.920000</td>\n",
       "      <td>1.090802e+06</td>\n",
       "      <td>610104.000000</td>\n",
       "      <td>65.000000</td>\n",
       "      <td>21.000000</td>\n",
       "      <td>66.000000</td>\n",
       "      <td>990.000000</td>\n",
       "      <td>437.097375</td>\n",
       "      <td>275.553300</td>\n",
       "      <td>2.016873e+06</td>\n",
       "    </tr>\n",
       "  </tbody>\n",
       "</table>\n",
       "</div>"
      ],
      "text/plain": [
       "        total_price  building_area_square_meter  main_building_area  \\\n",
       "count  7.302000e+03                 7302.000000         7302.000000   \n",
       "mean   1.192005e+07                  125.472964           86.374082   \n",
       "std    1.278688e+07                   68.539224           43.808644   \n",
       "min    4.100000e+05                    7.440000            7.440000   \n",
       "25%    5.720000e+06                   83.920000           62.272500   \n",
       "50%    8.800000e+06                  110.535000           80.390000   \n",
       "75%    1.369500e+07                  152.027500           98.925000   \n",
       "max    2.250000e+08                 1444.950000          910.920000   \n",
       "\n",
       "              tx_dt     unit_price  room_number  hall_number  health_number  \\\n",
       "count  7.302000e+03    7302.000000  7302.000000  7302.000000    7302.000000   \n",
       "mean   1.090235e+06   95335.058751     2.970556     1.851274       1.833881   \n",
       "std    2.548979e+03   59583.128096     1.296940     0.570767       1.138865   \n",
       "min    9.906010e+05    3239.000000     1.000000     1.000000       1.000000   \n",
       "25%    1.090415e+06   53625.500000     2.000000     2.000000       1.000000   \n",
       "50%    1.090502e+06   80005.500000     3.000000     2.000000       2.000000   \n",
       "75%    1.090517e+06  119458.250000     3.000000     2.000000       2.000000   \n",
       "max    1.090802e+06  610104.000000    65.000000    21.000000      66.000000   \n",
       "\n",
       "        tx_dt_year  building_area_square_feet  main_building_area_square_feet  \\\n",
       "count  7302.000000                7302.000000                     7302.000000   \n",
       "mean    109.098740                  37.955571                       26.128160   \n",
       "std      10.312723                  20.733115                       13.252115   \n",
       "min     102.000000                   2.250600                        2.250600   \n",
       "25%     109.000000                  25.385800                       18.837431   \n",
       "50%     109.000000                  33.436837                       24.317975   \n",
       "75%     109.000000                  45.988319                       29.924813   \n",
       "max     990.000000                 437.097375                      275.553300   \n",
       "\n",
       "       unit_price_square_feet  \n",
       "count            7.302000e+03  \n",
       "mean             3.151572e+05  \n",
       "std              1.969690e+05  \n",
       "min              1.070744e+04  \n",
       "25%              1.772744e+05  \n",
       "50%              2.644810e+05  \n",
       "75%              3.949033e+05  \n",
       "max              2.016873e+06  "
      ]
     },
     "execution_count": 18,
     "metadata": {},
     "output_type": "execute_result"
    }
   ],
   "source": [
    "# 移除後再用.describe()觀察是否還有奇怪的資料?\n",
    "df.describe()"
   ]
  },
  {
   "cell_type": "markdown",
   "metadata": {
    "id": "uRcOUtYPAtpk"
   },
   "source": [
    "# 4. 找出台北市時價登入總價高度相關的變數"
   ]
  },
  {
   "cell_type": "markdown",
   "metadata": {
    "id": "sMgZ6PbwAtpk"
   },
   "source": [
    "阿宏我是台北人他想找出影響台北市總價、單價元坪的因子<br>\n",
    "相關係數0.3以下為低相關，0.3\\~0.7為中等相關，0.7以上為高度相關<br>\n",
    "1. 資料切片切出city欄位為台北市的資料，並找出時價登入總價(total_price)高度相關的變數\n",
    "2. 資料切片切出city欄位為台北市的資料，找出單價元坪(unit_price_square_feet)高度相關的變數"
   ]
  },
  {
   "cell_type": "code",
   "execution_count": 19,
   "metadata": {
    "id": "UZyUNLQzAtpm"
   },
   "outputs": [
    {
     "name": "stdout",
     "output_type": "stream",
     "text": [
      "# total_price with ...\n",
      "total_price = 1.0000\n",
      "building_area_square_meter = 0.8805\n",
      "main_building_area = 0.7282\n",
      "building_area_square_feet = 0.8805\n",
      "main_building_area_square_feet = 0.7282\n",
      "\n",
      "# unit_price_square_feet with ...\n",
      "unit_price = 1.0000\n",
      "unit_price_square_feet = 1.0000\n"
     ]
    }
   ],
   "source": [
    "# 阿宏我是台北人他想找出影響台北市總價、單價元坪的因子\n",
    "# 1. 資料切片切出city欄位為台北市的資料，並找出時價登入總價(total_price)高度相關的變數\n",
    "tp = df.loc[df.city=='Taipei'].corr(method='pearson').total_price\n",
    "print('# total_price with ...')\n",
    "for i, j in zip(tp.keys(), tp):\n",
    "    if abs(j) >= 0.7:\n",
    "        print('%s = %.4f' %(i, j))\n",
    "\n",
    "# 2. 資料切片切出city欄位為台北市的資料，找出單價元坪(unit_price_square_feet)高度相關的變數\n",
    "sq = df.loc[df.city=='Taipei'].corr(method='pearson').unit_price_square_feet\n",
    "print('\\n# unit_price_square_feet with ...')\n",
    "for i, j in zip(sq.keys(), sq):\n",
    "    if abs(j) >= 0.7:\n",
    "        print('%s = %.4f' %(i, j))"
   ]
  },
  {
   "cell_type": "markdown",
   "metadata": {
    "id": "-y15EpRMAtpm"
   },
   "source": [
    "# 5. 資料視覺化並解釋\n"
   ]
  },
  {
   "cell_type": "markdown",
   "metadata": {
    "id": "TuAbtSFfAtpn"
   },
   "source": [
    "我想要以視覺化的方式來看房價資料，並且請各位資料科學家解釋圖表給阿宏我知道\n",
    "1. 以城市(city)為x軸，以單價元坪(unit_price_square_feet)為y軸畫出boxplot，並找出單價元坪(unit_price_square_feet)中位數最高的地區\n",
    "2. 進一步對台北市的資料做圖，以建物現況格局-房(room_number)為x軸，以總價元(total_price)為y軸畫出boxplot，並找出總價元(total_price)中位數最高的房間數。hint:資料切片找出city欄位為台北市的資料，再進一步畫圖\n",
    "3. 對台北市的資料做圖，先將地區(twons)做編碼在進行，再以地區(twon)為x軸，以單價元坪(unit_price_square_feet)為y軸畫出boxplot，並找出單價元坪(unit_price_square_feet)中位數最高的地區。hint:運用LabelEncoder()對地區(twons)做編碼，運用.inverse_transform()反查編碼的地區"
   ]
  },
  {
   "cell_type": "code",
   "execution_count": 20,
   "metadata": {
    "id": "AeGKqgwIAtpn",
    "scrolled": false
   },
   "outputs": [
    {
     "data": {
      "image/png": "[encoded data removed]",
      "text/plain": [
       "<Figure size 720x360 with 1 Axes>"
      ]
     },
     "metadata": {
      "needs_background": "light"
     },
     "output_type": "display_data"
    },
    {
     "name": "stdout",
     "output_type": "stream",
     "text": [
      "Thus, the highest mode of unit price square feet happen in \"Taipei\"\n"
     ]
    }
   ],
   "source": [
    "#1. 以城市(city)為x軸，以單價元坪(unit_price_square_feet)為y軸畫出boxplot，\n",
    "#並找出單價元坪(unit_price_square_feet)中位數最高的地區\n",
    "\n",
    "import seaborn as sns\n",
    "import matplotlib.pyplot as plt\n",
    "plt.figure(figsize=[10,5])\n",
    "sns.boxplot(x='city', y='unit_price_square_feet', data= df)\n",
    "plt.show()\n",
    "\n",
    "print('Thus, the highest mode of unit price square feet happen in \"Taipei\"')"
   ]
  },
  {
   "cell_type": "code",
   "execution_count": 21,
   "metadata": {
    "id": "2_sM72QLAtpn"
   },
   "outputs": [
    {
     "data": {
      "image/png": "[encoded data removed]",
      "text/plain": [
       "<Figure size 720x360 with 1 Axes>"
      ]
     },
     "metadata": {
      "needs_background": "light"
     },
     "output_type": "display_data"
    },
    {
     "name": "stdout",
     "output_type": "stream",
     "text": [
      "The room_number with the highest price is 10.\n"
     ]
    }
   ],
   "source": [
    "#2. 進一步對\"台北市\"的資料做圖，以建物現況格局-房(room_number)為x軸，以總價元(total_price)為y軸畫出boxplot，\n",
    "#並找出總價元(total_price)中位數最高的房間數。hint:資料切片找出city欄位為台北市的資料，再進一步畫圖\n",
    "\n",
    "d_taipei = df.loc[df['city']=='Taipei']\n",
    "plt.figure(figsize=[10,5])\n",
    "sns.boxplot(x='room_number', y='total_price', data= d_taipei)\n",
    "plt.show()\n",
    "\n",
    "print('The room_number with the highest price is 10.')"
   ]
  },
  {
   "cell_type": "code",
   "execution_count": 22,
   "metadata": {
    "id": "PatbpuqLAtpo"
   },
   "outputs": [
    {
     "name": "stderr",
     "output_type": "stream",
     "text": [
      "/Users/becca/anaconda3/envs/PS/lib/python3.7/site-packages/ipykernel_launcher.py:8: SettingWithCopyWarning: \n",
      "A value is trying to be set on a copy of a slice from a DataFrame.\n",
      "Try using .loc[row_indexer,col_indexer] = value instead\n",
      "\n",
      "See the caveats in the documentation: https://pandas.pydata.org/pandas-docs/stable/user_guide/indexing.html#returning-a-view-versus-a-copy\n",
      "  \n"
     ]
    },
    {
     "data": {
      "image/png": "[encoded data removed]",
      "text/plain": [
       "<Figure size 720x360 with 1 Axes>"
      ]
     },
     "metadata": {
      "needs_background": "light"
     },
     "output_type": "display_data"
    },
    {
     "name": "stdout",
     "output_type": "stream",
     "text": [
      "大安區 has the highest price mode.\n"
     ]
    }
   ],
   "source": [
    "#3. 對\"台北市\"的資料做圖，先將地區(twons)做編碼在進行，再以地區(twon)為x軸，以單價元坪(unit_price_square_feet)為y軸畫出boxplot，\n",
    "#並找出單價元坪(unit_price_square_feet)中位數最高的地區。\n",
    "# hint:運用LabelEncoder()對地區(twons)做編碼，運用.inverse_transform()反查編碼的地區\n",
    "\n",
    "from sklearn.preprocessing import LabelEncoder\n",
    "\n",
    "le = LabelEncoder()\n",
    "d_taipei['label'] = le.fit_transform(d_taipei['towns'])\n",
    "plt.figure(figsize =[10,5])\n",
    "sns.boxplot(x='label', y='unit_price_square_feet', data= d_taipei)\n",
    "plt.show()\n",
    "\n",
    "h_city = list(le.inverse_transform([8]))[0]\n",
    "print('%s has the highest price mode.' %h_city)\n"
   ]
  }
 ],
 "metadata": {
  "colab": {
   "name": "不動產分析_習題.ipynb",
   "provenance": []
  },
  "kernelspec": {
   "display_name": "Python 3",
   "language": "python",
   "name": "python3"
  },
  "language_info": {
   "codemirror_mode": {
    "name": "ipython",
    "version": 3
   },
   "file_extension": ".py",
   "mimetype": "text/x-python",
   "name": "python",
   "nbconvert_exporter": "python",
   "pygments_lexer": "ipython3",
   "version": "3.7.3"
  }
 },
 "nbformat": 4,
 "nbformat_minor": 1
}
