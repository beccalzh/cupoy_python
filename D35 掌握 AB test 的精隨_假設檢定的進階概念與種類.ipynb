{
 "cells": [
  {
   "cell_type": "code",
   "execution_count": 221,
   "metadata": {},
   "outputs": [],
   "source": [
    "import math\n",
    "import statistics\n",
    "import numpy as np\n",
    "import pandas as pd\n",
    "import seaborn as sns\n",
    "from scipy import stats\n",
    "import matplotlib.pyplot as plt"
   ]
  },
  {
   "cell_type": "code",
   "execution_count": null,
   "metadata": {},
   "outputs": [],
   "source": [
    "'''\n",
    "檢定 𝐻_0:𝜇≤0， 𝐻_1:𝜇>0 ，假設在 𝐻_0 為真下，分配為 N(0,1)， 𝐻_1 為真下，分配為 N(2,1)。\n",
    "假設 𝑋 ̅>1，拒絕 𝐻_0。\n",
    "如果拒絕域改變時，𝛼 和 𝛽 會怎樣變化，\n",
    "'''"
   ]
  },
  {
   "cell_type": "code",
   "execution_count": 307,
   "metadata": {},
   "outputs": [
    {
     "data": {
      "text/plain": [
       "'\\n若X->2，拒絕H_0\\n則紫色面積變小，即P(拒絕H_0｜H_0為真)= 𝛼 會變小\\n且粉色面積即P(接受H_0|H_1為真)= 𝛽 會變大\\n'"
      ]
     },
     "execution_count": 307,
     "metadata": {},
     "output_type": "execute_result"
    }
   ],
   "source": [
    "#Q1: 假設 𝑋 ̅>2，拒絕 𝐻_0，𝛼 會變大/變小? 𝛽 會變大/變小?\n",
    "\n",
    "'''\n",
    "若X->2，拒絕H_0\n",
    "則紫色面積變小，即P(拒絕H_0｜H_0為真)= 𝛼 會變小\n",
    "且粉色面積即P(接受H_0|H_1為真)= 𝛽 會變大\n",
    "'''\n"
   ]
  },
  {
   "cell_type": "code",
   "execution_count": 308,
   "metadata": {},
   "outputs": [
    {
     "data": {
      "text/plain": [
       "'\\n若X->0.2，拒絕H_0\\n則紫色面積變大，即P(拒絕H_0｜H_0為真)= 𝛼 會變大\\n且粉色面積即P(接受H_0|H_1為真)= 𝛽 會變小\\n'"
      ]
     },
     "execution_count": 308,
     "metadata": {},
     "output_type": "execute_result"
    }
   ],
   "source": [
    "#Q2: 假設 𝑋 ̅>0.2，拒絕 𝐻_0，𝛼 會變大/變小? 𝛽 會變大/變小?\n",
    "\n",
    "\n",
    "'''\n",
    "若X->0.2，拒絕H_0\n",
    "則紫色面積變大，即P(拒絕H_0｜H_0為真)= 𝛼 會變大\n",
    "且粉色面積即P(接受H_0|H_1為真)= 𝛽 會變小\n",
    "'''"
   ]
  },
  {
   "cell_type": "code",
   "execution_count": 309,
   "metadata": {},
   "outputs": [
    {
     "data": {
      "text/plain": [
       "'\\n兩個值呈反向變動關係，即負相關\\n一個值變大，另一值則會變小\\n'"
      ]
     },
     "execution_count": 309,
     "metadata": {},
     "output_type": "execute_result"
    }
   ],
   "source": [
    "#Q3: 𝛼 和 𝛽 有關聯性?\n",
    "\n",
    "'''\n",
    "兩個值呈反向變動關係，即負相關\n",
    "一個值變大，另一值則會變小\n",
    "'''"
   ]
  },
  {
   "cell_type": "code",
   "execution_count": null,
   "metadata": {},
   "outputs": [],
   "source": []
  }
 ],
 "metadata": {
  "kernelspec": {
   "display_name": "Python 3",
   "language": "python",
   "name": "python3"
  },
  "language_info": {
   "codemirror_mode": {
    "name": "ipython",
    "version": 3
   },
   "file_extension": ".py",
   "mimetype": "text/x-python",
   "name": "python",
   "nbconvert_exporter": "python",
   "pygments_lexer": "ipython3",
   "version": "3.7.6"
  }
 },
 "nbformat": 4,
 "nbformat_minor": 4
}
