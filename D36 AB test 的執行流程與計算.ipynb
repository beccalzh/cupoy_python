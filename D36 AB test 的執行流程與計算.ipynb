{
 "cells": [
  {
   "cell_type": "code",
   "execution_count": 310,
   "metadata": {},
   "outputs": [],
   "source": [
    "import math\n",
    "import statistics\n",
    "import numpy as np\n",
    "import pandas as pd\n",
    "import seaborn as sns\n",
    "from scipy import stats\n",
    "import matplotlib.pyplot as plt"
   ]
  },
  {
   "cell_type": "code",
   "execution_count": 312,
   "metadata": {},
   "outputs": [
    {
     "data": {
      "text/plain": [
       "'\\n某工廠想知道兩條不同的生產線的產品不良率是否有所不同，由兩條生產線中各抽取 300 個樣本，第一組有 75 個不良品，\\n第二組有 30 個不良品，我們可以宣稱生產線所生產出的產品不良率不相同? (以 0.05 為顯著水準)?\\n(提示:透過課程投影片的步驟，需思考 𝐻_0、 𝐻_1 的寫法和範例不同唷。)\\n'"
      ]
     },
     "execution_count": 312,
     "metadata": {},
     "output_type": "execute_result"
    }
   ],
   "source": [
    "'''\n",
    "某工廠想知道兩條不同的生產線的產品不良率是否有所不同，由兩條生產線中各抽取 300 個樣本，第一組有 75 個不良品，\n",
    "第二組有 30 個不良品，我們可以宣稱生產線所生產出的產品不良率不相同? (以 0.05 為顯著水準)?\n",
    "(提示:透過課程投影片的步驟，需思考 𝐻_0、 𝐻_1 的寫法和範例不同唷。)\n",
    "'''"
   ]
  },
  {
   "cell_type": "code",
   "execution_count": 318,
   "metadata": {},
   "outputs": [
    {
     "data": {
      "text/plain": [
       "(4.834937784152282, 1.3318728439003627e-06)"
      ]
     },
     "execution_count": 318,
     "metadata": {},
     "output_type": "execute_result"
    }
   ],
   "source": [
    "#確認目的\n",
    "\n",
    "'''\n",
    "假設兩產品線為A&B，此檢驗目的為「檢驗產品線A&B的不良率是否相同」\n",
    "'''\n",
    "\n",
    "#選擇實驗測試對象\n",
    "'''\n",
    "透過兩產線生產相同產品，並抽樣n個產品，檢查不良品發生的機率\n",
    "'''\n",
    "\n",
    "#建立假設\n",
    "'''\n",
    "假設 PA為P(產品線A不良品) & PB為P(產品線B不良品)\n",
    "\n",
    "H_0: |PA-PB| = 0\n",
    "H_1: |PA-PB| != 0\n",
    "'''\n",
    "\n",
    "#隨機分配方法\n",
    "'''\n",
    "因資訊有限，採「簡單隨機分配」\n",
    "'''\n",
    "\n",
    "#實驗結果分析\n",
    "\n",
    "PA=75/300\n",
    "PB=30/300\n",
    "VA=PA*(1-PA) # Variance of A\n",
    "VB=PB*(1-PB) # Variance of B\n",
    "\n",
    "import statsmodels.stats.proportion as stat\n",
    "X=[75,30]\n",
    "Y=[300,300]\n",
    "stat.proportions_ztest(X,Y, alternative='two-sided')"
   ]
  },
  {
   "cell_type": "code",
   "execution_count": 319,
   "metadata": {},
   "outputs": [
    {
     "data": {
      "text/plain": [
       "'\\np-value=1.33 > 0.05，拒絕H_0，產線AB有顯著差異\\n'"
      ]
     },
     "execution_count": 319,
     "metadata": {},
     "output_type": "execute_result"
    }
   ],
   "source": [
    "'''\n",
    "p-value=1.33 > 0.05，拒絕H_0，產線AB有顯著差異\n",
    "'''"
   ]
  },
  {
   "cell_type": "code",
   "execution_count": null,
   "metadata": {},
   "outputs": [],
   "source": []
  }
 ],
 "metadata": {
  "kernelspec": {
   "display_name": "Python 3",
   "language": "python",
   "name": "python3"
  },
  "language_info": {
   "codemirror_mode": {
    "name": "ipython",
    "version": 3
   },
   "file_extension": ".py",
   "mimetype": "text/x-python",
   "name": "python",
   "nbconvert_exporter": "python",
   "pygments_lexer": "ipython3",
   "version": "3.7.6"
  }
 },
 "nbformat": 4,
 "nbformat_minor": 4
}
