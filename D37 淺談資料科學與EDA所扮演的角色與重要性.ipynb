{
 "cells": [
  {
   "cell_type": "code",
   "execution_count": 310,
   "metadata": {},
   "outputs": [],
   "source": [
    "import math\n",
    "import statistics\n",
    "import numpy as np\n",
    "import pandas as pd\n",
    "import seaborn as sns\n",
    "from scipy import stats\n",
    "import matplotlib.pyplot as plt"
   ]
  },
  {
   "cell_type": "code",
   "execution_count": 320,
   "metadata": {},
   "outputs": [
    {
     "data": {
      "text/plain": [
       "'\\nQ1: 哪一個問題不適合用資料科學解決?\\nQ2: 以你的角度來分析，為什麼這樣的問題，較不適合用資料來解決?\\n\\nA1: 「挑選 Mr./Ms. Right」不適合使用資料科學解決\\nA2: 相較於「顧客下次會買哪些東西？」及「半導體的良率預測？」，前述兩項有預測的部分存在，像是預測下次購買商品及產品良率。\\n挑選伴侶的事件上，無法預測完美伴侶出現的時點及機率。\\n此外，相較於另外兩個問題，挑選伴侶若要進行理想伴侶樣貌預測，則會需要龐大的約會數據，實行上恐有困難\\n'"
      ]
     },
     "execution_count": 320,
     "metadata": {},
     "output_type": "execute_result"
    }
   ],
   "source": [
    "'''\n",
    "Q1: 哪一個問題不適合用資料科學解決?\n",
    "Q2: 以你的角度來分析，為什麼這樣的問題，較不適合用資料來解決?\n",
    "\n",
    "A1: 「挑選 Mr./Ms. Right」不適合使用資料科學解決\n",
    "A2: 相較於「顧客下次會買哪些東西？」及「半導體的良率預測？」，前述兩項有預測的部分存在，像是預測下次購買商品及產品良率。\n",
    "挑選伴侶的事件上，無法預測完美伴侶出現的時點及機率。\n",
    "此外，相較於另外兩個問題，挑選伴侶若要進行理想伴侶樣貌預測，則會需要龐大的約會數據，實行上恐有困難\n",
    "'''"
   ]
  },
  {
   "cell_type": "code",
   "execution_count": null,
   "metadata": {},
   "outputs": [],
   "source": []
  }
 ],
 "metadata": {
  "kernelspec": {
   "display_name": "Python 3",
   "language": "python",
   "name": "python3"
  },
  "language_info": {
   "codemirror_mode": {
    "name": "ipython",
    "version": 3
   },
   "file_extension": ".py",
   "mimetype": "text/x-python",
   "name": "python",
   "nbconvert_exporter": "python",
   "pygments_lexer": "ipython3",
   "version": "3.7.6"
  }
 },
 "nbformat": 4,
 "nbformat_minor": 4
}
