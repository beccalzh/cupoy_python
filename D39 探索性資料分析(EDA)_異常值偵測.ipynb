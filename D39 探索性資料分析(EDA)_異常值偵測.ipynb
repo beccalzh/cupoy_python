{
 "cells": [
  {
   "cell_type": "code",
   "execution_count": 76,
   "metadata": {},
   "outputs": [],
   "source": [
    "#把需要的 library import 進來\n",
    "import pandas as pd\n",
    "import numpy as np\n",
    "import matplotlib.pyplot as plt\n",
    "import seaborn as sns\n",
    "\n",
    "from IPython.display import display\n",
    "#讓圖可以在 jupyter notebook顯示\n",
    "%matplotlib inline"
   ]
  },
  {
   "cell_type": "code",
   "execution_count": 77,
   "metadata": {},
   "outputs": [],
   "source": [
    "#顯示圖形的函數，可不先不用理解，直接用\n",
    "from IPython.display import display\n",
    "from IPython.display import display_html\n",
    "def display_side_by_side(*args):\n",
    "    html_str=''\n",
    "    for df in args:\n",
    "        html_str+=df.to_html()\n",
    "    display_html(html_str.replace('table','table style=\"display:inline\"'),raw=True)"
   ]
  },
  {
   "cell_type": "code",
   "execution_count": 78,
   "metadata": {},
   "outputs": [],
   "source": [
    "# 把兩個訓練資料集和測試資料集讀進來\n",
    "train = pd.read_csv('Titanic_train.csv')\n",
    "test = pd.read_csv('Titanic_test.csv')"
   ]
  },
  {
   "cell_type": "code",
   "execution_count": 135,
   "metadata": {},
   "outputs": [
    {
     "name": "stdout",
     "output_type": "stream",
     "text": [
      "方法一\n",
      "count    891.000000\n",
      "mean      32.204208\n",
      "std       49.693429\n",
      "min        0.000000\n",
      "25%        7.910400\n",
      "50%       14.454200\n",
      "75%       31.000000\n",
      "max      512.329200\n",
      "Name: Fare, dtype: float64\n",
      "\n",
      "方法二\n",
      "3倍標準差範圍為-116.88到181.28\n",
      "異常值有\n",
      "263.0\n",
      "263.0\n",
      "247.5208\n",
      "512.3292\n",
      "247.5208\n",
      "262.375\n",
      "263.0\n",
      "211.5\n",
      "227.525\n",
      "263.0\n",
      "221.7792\n",
      "227.525\n",
      "512.3292\n",
      "211.3375\n",
      "227.525\n",
      "227.525\n",
      "211.3375\n",
      "512.3292\n",
      "262.375\n",
      "211.3375\n",
      "共20個\n",
      "\n",
      "方法三\n"
     ]
    },
    {
     "data": {
      "text/plain": [
       "<matplotlib.axes._subplots.AxesSubplot at 0x7fcff0dadb50>"
      ]
     },
     "execution_count": 135,
     "metadata": {},
     "output_type": "execute_result"
    },
    {
     "data": {
      "image/png": "[encoded data removed]",
      "text/plain": [
       "<Figure size 432x288 with 1 Axes>"
      ]
     },
     "metadata": {
      "needs_background": "light"
     },
     "output_type": "display_data"
    }
   ],
   "source": [
    "#探索性分析: 觀察-是否有異常值，我們來觀察一下 Fare 變數吧!!\n",
    "fare = train['Fare']\n",
    "#Q1:觀察票價是否有異常值的現象?\n",
    "\n",
    "#方法1 \n",
    "print('方法一')\n",
    "#進行一個描述性的統計（規定範圍），從而檢視哪些值是不合理的（範圍以外的值）。\n",
    "print(fare.describe())\n",
    "#maximum為不合理的值，平均僅有32，std也只有50，maximum卻是512\n",
    "\n",
    "#方法2\n",
    "print('\\n方法二')\n",
    "#進行3倍標準差原則的計算，從而檢視哪些值是可疑的異常值。\n",
    "print('3倍標準差範圍為%.2f到%.2f'%(fare.mean()-3*fare.std(),fare.mean()+3*fare.std()))\n",
    "print('異常值有')\n",
    "a=0\n",
    "for i in fare:\n",
    "    if i > fare.mean()+3*fare.std() or i < fare.mean()-3*fare.std():\n",
    "        a+=1\n",
    "        print(i)\n",
    "print('共%s個'%a)\n",
    "\n",
    "\n",
    "#方法3 \n",
    "print('\\n方法三')\n",
    "#盒鬚圖判別法(IQR method)\n",
    "sns.boxplot(fare)\n",
    "#可以發現有特定一點（一個人的票價）在約莫500的地方"
   ]
  },
  {
   "cell_type": "code",
   "execution_count": 158,
   "metadata": {},
   "outputs": [
    {
     "name": "stdout",
     "output_type": "stream",
     "text": [
      "     PassengerId  Survived  Pclass  \\\n",
      "27            28         0       1   \n",
      "88            89         1       1   \n",
      "118          119         0       1   \n",
      "258          259         1       1   \n",
      "299          300         1       1   \n",
      "311          312         1       1   \n",
      "341          342         1       1   \n",
      "377          378         0       1   \n",
      "380          381         1       1   \n",
      "438          439         0       1   \n",
      "527          528         0       1   \n",
      "557          558         0       1   \n",
      "679          680         1       1   \n",
      "689          690         1       1   \n",
      "700          701         1       1   \n",
      "716          717         1       1   \n",
      "730          731         1       1   \n",
      "737          738         1       1   \n",
      "742          743         1       1   \n",
      "779          780         1       1   \n",
      "\n",
      "                                                  Name     Sex   Age  SibSp  \\\n",
      "27                      Fortune, Mr. Charles Alexander    male  19.0      3   \n",
      "88                          Fortune, Miss. Mabel Helen  female  23.0      3   \n",
      "118                           Baxter, Mr. Quigg Edmond    male  24.0      0   \n",
      "258                                   Ward, Miss. Anna  female  35.0      0   \n",
      "299    Baxter, Mrs. James (Helene DeLaudeniere Chaput)  female  50.0      0   \n",
      "311                         Ryerson, Miss. Emily Borie  female  18.0      2   \n",
      "341                     Fortune, Miss. Alice Elizabeth  female  24.0      3   \n",
      "377                          Widener, Mr. Harry Elkins    male  27.0      0   \n",
      "380                              Bidois, Miss. Rosalie  female  42.0      0   \n",
      "438                                  Fortune, Mr. Mark    male  64.0      1   \n",
      "527                                 Farthing, Mr. John    male   NaN      0   \n",
      "557                                Robbins, Mr. Victor    male   NaN      0   \n",
      "679                 Cardeza, Mr. Thomas Drake Martinez    male  36.0      0   \n",
      "689                  Madill, Miss. Georgette Alexandra  female  15.0      0   \n",
      "700  Astor, Mrs. John Jacob (Madeleine Talmadge Force)  female  18.0      1   \n",
      "716                      Endres, Miss. Caroline Louise  female  38.0      0   \n",
      "730                      Allen, Miss. Elisabeth Walton  female  29.0      0   \n",
      "737                             Lesurer, Mr. Gustave J    male  35.0      0   \n",
      "742              Ryerson, Miss. Susan Parker \"Suzette\"  female  21.0      2   \n",
      "779  Robert, Mrs. Edward Scott (Elisabeth Walton Mc...  female  43.0      0   \n",
      "\n",
      "     Parch    Ticket      Fare            Cabin Embarked  \n",
      "27       2     19950  263.0000      C23 C25 C27        S  \n",
      "88       2     19950  263.0000      C23 C25 C27        S  \n",
      "118      1  PC 17558  247.5208          B58 B60        C  \n",
      "258      0  PC 17755  512.3292              NaN        C  \n",
      "299      1  PC 17558  247.5208          B58 B60        C  \n",
      "311      2  PC 17608  262.3750  B57 B59 B63 B66        C  \n",
      "341      2     19950  263.0000      C23 C25 C27        S  \n",
      "377      2    113503  211.5000              C82        C  \n",
      "380      0  PC 17757  227.5250              NaN        C  \n",
      "438      4     19950  263.0000      C23 C25 C27        S  \n",
      "527      0  PC 17483  221.7792              C95        S  \n",
      "557      0  PC 17757  227.5250              NaN        C  \n",
      "679      1  PC 17755  512.3292      B51 B53 B55        C  \n",
      "689      1     24160  211.3375               B5        S  \n",
      "700      0  PC 17757  227.5250          C62 C64        C  \n",
      "716      0  PC 17757  227.5250              C45        C  \n",
      "730      0     24160  211.3375               B5        S  \n",
      "737      0  PC 17755  512.3292             B101        C  \n",
      "742      2  PC 17608  262.3750  B57 B59 B63 B66        C  \n",
      "779      1     24160  211.3375               B3        S  \n",
      "\n",
      "異常值 of first class\n",
      "512.3292\n",
      "512.3292\n",
      "512.3292\n"
     ]
    }
   ],
   "source": [
    "#Q2:你覺得找出的異常是真的異常? 你覺得需要做處理嗎?\n",
    "\n",
    "#首先找出異常值的資料\n",
    "l = []\n",
    "for i in range(len(train)):\n",
    "    if train['Fare'][i] > fare.mean()+3*fare.std():\n",
    "        l.append(train.iloc[i])\n",
    "abnormal = pd.DataFrame(l)\n",
    "print(abnormal)\n",
    "#可以發現異常值的Pclass皆為1，表示高價的票都是來自於頭等艙\n",
    "\n",
    "#若將頭等艙的票價加以計算（此處用三倍標準差）\n",
    "print('\\n異常值 of first class')\n",
    "first = []\n",
    "for k in range(len(train)):\n",
    "    if train['Pclass'][k] == 1:\n",
    "        first.append(train['Fare'][k])\n",
    "\n",
    "first = pd.Series(first)\n",
    "for j in first:\n",
    "    if j > first.mean()+3*first.std() or j < first.mean()-3*first.std():\n",
    "        print(j)\n",
    "#僅剩下512.3292為異常值\n",
    "\n",
    "#故在計算時除了512.3292外，其他仍屬頭等艙票價的合理範圍內，因此不需處理\n",
    "#但512.3292需要做處理"
   ]
  },
  {
   "cell_type": "code",
   "execution_count": null,
   "metadata": {},
   "outputs": [],
   "source": []
  }
 ],
 "metadata": {
  "kernelspec": {
   "display_name": "Python 3",
   "language": "python",
   "name": "python3"
  },
  "language_info": {
   "codemirror_mode": {
    "name": "ipython",
    "version": 3
   },
   "file_extension": ".py",
   "mimetype": "text/x-python",
   "name": "python",
   "nbconvert_exporter": "python",
   "pygments_lexer": "ipython3",
   "version": "3.7.6"
  }
 },
 "nbformat": 4,
 "nbformat_minor": 4
}
