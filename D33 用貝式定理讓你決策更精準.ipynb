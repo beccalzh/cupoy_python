{
 "cells": [
  {
   "cell_type": "code",
   "execution_count": 221,
   "metadata": {},
   "outputs": [],
   "source": [
    "import math\n",
    "import statistics\n",
    "import numpy as np\n",
    "import pandas as pd\n",
    "import seaborn as sns\n",
    "from scipy import stats\n",
    "import matplotlib.pyplot as plt"
   ]
  },
  {
   "cell_type": "code",
   "execution_count": 304,
   "metadata": {},
   "outputs": [
    {
     "name": "stdout",
     "output_type": "stream",
     "text": [
      "P(女生|長髮) = 0.36\n",
      "P(男生|長髮) = 0.64\n"
     ]
    }
   ],
   "source": [
    "'''\n",
    "Question:\n",
    "\n",
    "電影院裡通常都是成對情侶一起去看，假設電影院中有100 個人裡面，有 90 名男性和 10 名女性。\n",
    "在這 10 名女性裡，有一半的人有長髮（5 人），另一半有短髮（5人）；\n",
    "在 90 名男性當中，81 個人有短髮，9個人有長髮。\n",
    "'''\n",
    "\n",
    "#Q1: 所以根據這個情況條件下，你會預測照片中的長髮是男性或女性(直覺回答)? A1: 女性\n",
    "#Q2: 以上圖資料，計算當你看到長髮時，是女生的機率? \n",
    "\n",
    "#a:girl, b:長髮\n",
    "def bayes_theorem(p_a, p_b_given_a, p_b_given_not_a):\n",
    "    not_a = 1 - p_a\n",
    "    p_b = p_b_given_a * p_a + p_b_given_not_a * not_a\n",
    "    p_a_given_b = (p_b_given_a * p_a) / p_b\n",
    "    return p_a_given_b\n",
    " \n",
    "p_a = 0.1\n",
    "p_b_given_a = 0.5\n",
    "p_b_given_not_a = 0.1\n",
    "result = bayes_theorem(p_a, p_b_given_a, p_b_given_not_a)\n",
    "print('P(女生|長髮) = %.2f'%result)\n",
    "result2 = bayes_theorem(0.9, 0.1, 0.5)\n",
    "print('P(男生|長髮) = %.2f'%result2)\n",
    "\n",
    "#Q3: 你的決策因為男生女生比例不同(先驗分配不同)，和投影片的結果相比，決策有沒有改變? A3: 有，改為男性\n"
   ]
  }
 ],
 "metadata": {
  "kernelspec": {
   "display_name": "Python 3",
   "language": "python",
   "name": "python3"
  },
  "language_info": {
   "codemirror_mode": {
    "name": "ipython",
    "version": 3
   },
   "file_extension": ".py",
   "mimetype": "text/x-python",
   "name": "python",
   "nbconvert_exporter": "python",
   "pygments_lexer": "ipython3",
   "version": "3.7.6"
  }
 },
 "nbformat": 4,
 "nbformat_minor": 4
}
