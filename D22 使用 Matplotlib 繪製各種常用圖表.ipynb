{
 "cells": [
  {
   "cell_type": "code",
   "execution_count": 450,
   "metadata": {},
   "outputs": [],
   "source": [
    "import matplotlib.pyplot as plt\n",
    "import numpy as np"
   ]
  },
  {
   "cell_type": "code",
   "execution_count": 493,
   "metadata": {},
   "outputs": [
    {
     "data": {
      "image/png": "[encoded data removed]",
      "text/plain": [
       "<Figure size 432x288 with 4 Axes>"
      ]
     },
     "metadata": {},
     "output_type": "display_data"
    }
   ],
   "source": [
    "#軸圖進階\n",
    "\n",
    "#決定底框\n",
    "plt.axes([0.1,0.1,.5,.5])\n",
    "plt.xticks([]), plt.yticks([])\n",
    "plt.text(0.05,0.06, 'axes([0.1,0.1,.5,.5])',ha='left',va='center',size=9,alpha=.5)\n",
    "\n",
    "#決定第二層框\n",
    "plt.axes([0.15,0.15,.4,.4])\n",
    "plt.xticks([]), plt.yticks([])\n",
    "plt.text(0.05,0.06, 'axes([0.15,0.15,.4,.4])',ha='left',va='center',size=9,alpha=.5)\n",
    "\n",
    "#決定第三層框\n",
    "plt.axes([0.2,0.2,.3,.3])\n",
    "plt.xticks([]), plt.yticks([])\n",
    "plt.text(0.05,0.06, 'axes([0.2,0.2,.3,.3])',ha='left',va='center',size=9,alpha=.5)\n",
    "\n",
    "#決定第四層框\n",
    "plt.axes([0.25,0.25,.2,.2])\n",
    "plt.xticks([]), plt.yticks([])\n",
    "plt.text(0,0.5, 'axes([0.25,0.25,.2,.2])',ha='left',va='center',size=9,alpha=.5)\n",
    "\n",
    "\n",
    "plt.show()"
   ]
  },
  {
   "cell_type": "code",
   "execution_count": 496,
   "metadata": {},
   "outputs": [
    {
     "data": {
      "image/png": "[encoded data removed]",
      "text/plain": [
       "<Figure size 432x288 with 1 Axes>"
      ]
     },
     "metadata": {
      "needs_background": "light"
     },
     "output_type": "display_data"
    }
   ],
   "source": [
    "#問題: 嘗試通過添加紅色條形標籤重現上側的圖形。\n",
    "#在 四個像限的一二像限繪圖\n",
    "\n",
    "n = 12 \n",
    "X = np.arange(n)\n",
    "\n",
    "Y1 = (1-X/float(n)) * np.random.uniform(0.5,1.0,n)\n",
    "Y2 = (1-X/float(n)) * np.random.uniform(0.5,1.0,n)\n",
    "\n",
    "plt.bar(X, +Y1, facecolor='#9999ff', edgecolor='white')\n",
    "plt.bar(X, -Y2, facecolor='red', edgecolor='white')\n",
    "\n",
    "for x,y in zip(X,Y1):\n",
    "    plt.text(x+0.4, y+0.05, '%.2f' % y, ha='center', va= 'bottom')\n",
    "\n",
    "plt.ylim(-1.25,+1.25)\n",
    "plt.show()\n"
   ]
  },
  {
   "cell_type": "code",
   "execution_count": null,
   "metadata": {},
   "outputs": [],
   "source": []
  }
 ],
 "metadata": {
  "kernelspec": {
   "display_name": "Python 3",
   "language": "python",
   "name": "python3"
  },
  "language_info": {
   "codemirror_mode": {
    "name": "ipython",
    "version": 3
   },
   "file_extension": ".py",
   "mimetype": "text/x-python",
   "name": "python",
   "nbconvert_exporter": "python",
   "pygments_lexer": "ipython3",
   "version": "3.7.6"
  }
 },
 "nbformat": 4,
 "nbformat_minor": 4
}
